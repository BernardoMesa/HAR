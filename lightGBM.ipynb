{
 "cells": [
  {
   "cell_type": "code",
   "execution_count": 69,
   "metadata": {
    "collapsed": true
   },
   "outputs": [],
   "source": [
    "import pandas as pd\n",
    "import numpy as np\n",
    "from matplotlib import pyplot as plt\n",
    "from timeit import default_timer\n",
    "\n",
    "import pickle\n",
    "\n",
    "import warnings\n",
    "warnings.filterwarnings('ignore')\n",
    "\n",
    "from sklearn.ensemble import RandomForestClassifier, GradientBoostingClassifier\n",
    "from sklearn.model_selection import RandomizedSearchCV, GridSearchCV\n",
    "\n",
    "import lightgbm as lgb"
   ]
  },
  {
   "cell_type": "code",
   "execution_count": 119,
   "metadata": {
    "collapsed": true
   },
   "outputs": [],
   "source": [
    "# Load saved X,y data\n",
    "with open(\"Xy.pickle\", 'rb') as picklefile: \n",
    "    X_tr, X_ts, y_tr, y_ts, X, y = pickle.load(picklefile)\n",
    "\n",
    "h = ['h_x1', 'h_y1', 'h_z1','h_g1', 'h_g2', 'h_g3', 'h_m1', 'h_m2', 'h_m3']\n",
    "c = ['c_x1', 'c_y1', 'c_z1','c_g1', 'c_g2', 'c_g3', 'c_m1', 'c_m2', 'c_m3']\n",
    "a = ['a_x1', 'a_y1', 'a_z1','a_g1', 'a_g2', 'a_g3', 'a_m1', 'a_m2', 'a_m3']\n",
    "\n",
    "acce= h+c+a# Features belonging to wrist sensor"
   ]
  },
  {
   "cell_type": "markdown",
   "metadata": {},
   "source": [
    "If desired, set variable num_samples to reduce the size of dataset when checking the code runs through the end of the process"
   ]
  },
  {
   "cell_type": "code",
   "execution_count": 121,
   "metadata": {
    "collapsed": true
   },
   "outputs": [],
   "source": [
    "num_samples = X_tr.shape[0]\n",
    "X_train = X_tr[:num_samples]\n",
    "y_train = y_tr[:num_samples]\n",
    "X_test = X_ts[:num_samples]\n",
    "y_test = y_ts[:num_samples]\n",
    "\n",
    "X_train = X_train[h]\n",
    "X_test = X_test[h]"
   ]
  },
  {
   "cell_type": "code",
   "execution_count": 139,
   "metadata": {},
   "outputs": [
    {
     "data": {
      "text/plain": [
       "12"
      ]
     },
     "execution_count": 139,
     "metadata": {},
     "output_type": "execute_result"
    }
   ],
   "source": [
    "len(y.unique())"
   ]
  },
  {
   "cell_type": "code",
   "execution_count": 149,
   "metadata": {
    "collapsed": true
   },
   "outputs": [],
   "source": [
    "ne = [20,40,80,120]\n",
    "md = [-1]\n",
    "lr = [0.01,0.1]\n",
    "mb = [255,510,1020]\n",
    "bt = ['gbdt','dart']\n",
    "nb = [50,100]\n",
    "\n",
    "param_grid = dict(n_estimators=ne, max_depth=md, learning_rate=lr,\n",
    "                  boosting_type=bt, max_bin=mb,num_boost_round=nb)"
   ]
  },
  {
   "cell_type": "code",
   "execution_count": 150,
   "metadata": {
    "collapsed": true
   },
   "outputs": [],
   "source": [
    "clf = lgb.LGBMClassifier(silent=False,\n",
    "                         objective='multiclass',\n",
    "                         num_classes=12,\n",
    "                         metric = ['multi_error','multi_logloss'],\n",
    "                         early_stopping_rounds=5)"
   ]
  },
  {
   "cell_type": "code",
   "execution_count": 151,
   "metadata": {
    "scrolled": true
   },
   "outputs": [
    {
     "name": "stdout",
     "output_type": "stream",
     "text": [
      "Start Process\n",
      "Fitting 5 folds for each of 96 candidates, totalling 480 fits\n",
      "[CV] boosting_type=gbdt, learning_rate=0.01, max_bin=255, max_depth=-1, n_estimators=20, num_boost_round=50 \n",
      "[CV] boosting_type=gbdt, learning_rate=0.01, max_bin=255, max_depth=-1, n_estimators=20, num_boost_round=50 \n",
      "[CV] boosting_type=gbdt, learning_rate=0.01, max_bin=255, max_depth=-1, n_estimators=20, num_boost_round=50 \n",
      "[CV] boosting_type=gbdt, learning_rate=0.01, max_bin=255, max_depth=-1, n_estimators=20, num_boost_round=50 \n",
      "[CV]  boosting_type=gbdt, learning_rate=0.01, max_bin=255, max_depth=-1, n_estimators=20, num_boost_round=50, f1_macro=0.6387471287029373, recall_macro=0.6338594579944855, precision_macro=0.6625516280417979, total= 1.5min\n",
      "[CV] boosting_type=gbdt, learning_rate=0.01, max_bin=255, max_depth=-1, n_estimators=20, num_boost_round=50 \n",
      "[CV]  boosting_type=gbdt, learning_rate=0.01, max_bin=255, max_depth=-1, n_estimators=20, num_boost_round=50, f1_macro=0.6360807604550394, recall_macro=0.6310564953102107, precision_macro=0.6602789531884009, total= 1.5min\n",
      "[CV] boosting_type=gbdt, learning_rate=0.01, max_bin=255, max_depth=-1, n_estimators=20, num_boost_round=100 \n",
      "[CV]  boosting_type=gbdt, learning_rate=0.01, max_bin=255, max_depth=-1, n_estimators=20, num_boost_round=50, f1_macro=0.6376335905918028, recall_macro=0.6321386523330682, precision_macro=0.6624271231932336, total= 1.5min\n",
      "[CV] boosting_type=gbdt, learning_rate=0.01, max_bin=255, max_depth=-1, n_estimators=20, num_boost_round=100 \n",
      "[CV]  boosting_type=gbdt, learning_rate=0.01, max_bin=255, max_depth=-1, n_estimators=20, num_boost_round=50, f1_macro=0.6392066656096999, recall_macro=0.633651336812061, precision_macro=0.6661897586558166, total= 1.5min\n",
      "[CV] boosting_type=gbdt, learning_rate=0.01, max_bin=255, max_depth=-1, n_estimators=20, num_boost_round=100 \n",
      "[CV]  boosting_type=gbdt, learning_rate=0.01, max_bin=255, max_depth=-1, n_estimators=20, num_boost_round=50, f1_macro=0.639113295763089, recall_macro=0.633519587909159, precision_macro=0.6641092596788618, total= 1.5min\n",
      "[CV]  boosting_type=gbdt, learning_rate=0.01, max_bin=255, max_depth=-1, n_estimators=20, num_boost_round=100, f1_macro=0.6376335905918028, recall_macro=0.6321386523330682, precision_macro=0.6624271231932336, total= 1.5min\n",
      "[CV] boosting_type=gbdt, learning_rate=0.01, max_bin=255, max_depth=-1, n_estimators=20, num_boost_round=100 \n",
      "[CV]  boosting_type=gbdt, learning_rate=0.01, max_bin=255, max_depth=-1, n_estimators=20, num_boost_round=100, f1_macro=0.6360807604550394, recall_macro=0.6310564953102107, precision_macro=0.6602789531884009, total= 1.5min\n",
      "[CV] boosting_type=gbdt, learning_rate=0.01, max_bin=255, max_depth=-1, n_estimators=20, num_boost_round=100 \n",
      "[CV]  boosting_type=gbdt, learning_rate=0.01, max_bin=255, max_depth=-1, n_estimators=20, num_boost_round=100, f1_macro=0.6392066656096999, recall_macro=0.633651336812061, precision_macro=0.6661897586558166, total= 1.5min\n",
      "[CV] boosting_type=gbdt, learning_rate=0.01, max_bin=255, max_depth=-1, n_estimators=40, num_boost_round=50 \n",
      "[CV] boosting_type=gbdt, learning_rate=0.01, max_bin=255, max_depth=-1, n_estimators=40, num_boost_round=50 \n",
      "[CV]  boosting_type=gbdt, learning_rate=0.01, max_bin=255, max_depth=-1, n_estimators=20, num_boost_round=100, f1_macro=0.6387471287029373, recall_macro=0.6338594579944855, precision_macro=0.6625516280417979, total= 2.3min\n",
      "[CV]  boosting_type=gbdt, learning_rate=0.01, max_bin=255, max_depth=-1, n_estimators=20, num_boost_round=100, f1_macro=0.639113295763089, recall_macro=0.633519587909159, precision_macro=0.6641092596788618, total= 2.3min\n",
      "[CV] boosting_type=gbdt, learning_rate=0.01, max_bin=255, max_depth=-1, n_estimators=40, num_boost_round=50 \n",
      "[CV] boosting_type=gbdt, learning_rate=0.01, max_bin=255, max_depth=-1, n_estimators=40, num_boost_round=50 \n"
     ]
    },
    {
     "name": "stderr",
     "output_type": "stream",
     "text": [
      "[Parallel(n_jobs=-1)]: Done  10 tasks      | elapsed: 10.9min\n"
     ]
    },
    {
     "name": "stdout",
     "output_type": "stream",
     "text": [
      "[CV]  boosting_type=gbdt, learning_rate=0.01, max_bin=255, max_depth=-1, n_estimators=40, num_boost_round=50, f1_macro=0.6508122796145004, recall_macro=0.6470553453884278, precision_macro=0.6771569618869053, total= 4.0min\n",
      "[CV] boosting_type=gbdt, learning_rate=0.01, max_bin=255, max_depth=-1, n_estimators=40, num_boost_round=50 \n",
      "[CV]  boosting_type=gbdt, learning_rate=0.01, max_bin=255, max_depth=-1, n_estimators=40, num_boost_round=50, f1_macro=0.6494627285973046, recall_macro=0.6456497184041708, precision_macro=0.6791688206796939, total= 4.0min\n",
      "[CV] boosting_type=gbdt, learning_rate=0.01, max_bin=255, max_depth=-1, n_estimators=40, num_boost_round=100 \n",
      "[CV]  boosting_type=gbdt, learning_rate=0.01, max_bin=255, max_depth=-1, n_estimators=40, num_boost_round=50, f1_macro=0.6504068350444053, recall_macro=0.6467175915146953, precision_macro=0.677215229152076, total= 3.3min\n",
      "[CV] boosting_type=gbdt, learning_rate=0.01, max_bin=255, max_depth=-1, n_estimators=40, num_boost_round=100 \n",
      "[CV]  boosting_type=gbdt, learning_rate=0.01, max_bin=255, max_depth=-1, n_estimators=40, num_boost_round=50, f1_macro=0.6525614263361429, recall_macro=0.6487073493354062, precision_macro=0.679562492885775, total= 3.4min\n",
      "[CV] boosting_type=gbdt, learning_rate=0.01, max_bin=255, max_depth=-1, n_estimators=40, num_boost_round=100 \n",
      "[CV]  boosting_type=gbdt, learning_rate=0.01, max_bin=255, max_depth=-1, n_estimators=40, num_boost_round=50, f1_macro=0.6510805896926241, recall_macro=0.6471508993275091, precision_macro=0.6772984335984765, total= 3.4min\n",
      "[CV] boosting_type=gbdt, learning_rate=0.01, max_bin=255, max_depth=-1, n_estimators=40, num_boost_round=100 \n",
      "[CV]  boosting_type=gbdt, learning_rate=0.01, max_bin=255, max_depth=-1, n_estimators=40, num_boost_round=100, f1_macro=0.6508122796145004, recall_macro=0.6470553453884278, precision_macro=0.6771569618869053, total= 3.3min\n",
      "[CV] boosting_type=gbdt, learning_rate=0.01, max_bin=255, max_depth=-1, n_estimators=40, num_boost_round=100 \n",
      "[CV]  boosting_type=gbdt, learning_rate=0.01, max_bin=255, max_depth=-1, n_estimators=40, num_boost_round=100, f1_macro=0.6504068350444053, recall_macro=0.6467175915146953, precision_macro=0.677215229152076, total= 3.3min\n",
      "[CV] boosting_type=gbdt, learning_rate=0.01, max_bin=255, max_depth=-1, n_estimators=80, num_boost_round=50 \n",
      "[CV]  boosting_type=gbdt, learning_rate=0.01, max_bin=255, max_depth=-1, n_estimators=40, num_boost_round=100, f1_macro=0.6494627285973046, recall_macro=0.6456497184041708, precision_macro=0.6791688206796939, total= 3.4min\n",
      "[CV] boosting_type=gbdt, learning_rate=0.01, max_bin=255, max_depth=-1, n_estimators=80, num_boost_round=50 \n",
      "[CV]  boosting_type=gbdt, learning_rate=0.01, max_bin=255, max_depth=-1, n_estimators=40, num_boost_round=100, f1_macro=0.6525614263361429, recall_macro=0.6487073493354062, precision_macro=0.679562492885775, total= 3.4min\n",
      "[CV] boosting_type=gbdt, learning_rate=0.01, max_bin=255, max_depth=-1, n_estimators=80, num_boost_round=50 \n",
      "[CV]  boosting_type=gbdt, learning_rate=0.01, max_bin=255, max_depth=-1, n_estimators=40, num_boost_round=100, f1_macro=0.6510805896926241, recall_macro=0.6471508993275091, precision_macro=0.6772984335984765, total= 3.3min\n",
      "[CV] boosting_type=gbdt, learning_rate=0.01, max_bin=255, max_depth=-1, n_estimators=80, num_boost_round=50 \n",
      "[CV]  boosting_type=gbdt, learning_rate=0.01, max_bin=255, max_depth=-1, n_estimators=80, num_boost_round=50, f1_macro=0.6638925851777673, recall_macro=0.6603907992007958, precision_macro=0.6945288374746282, total= 7.5min\n",
      "[CV] boosting_type=gbdt, learning_rate=0.01, max_bin=255, max_depth=-1, n_estimators=80, num_boost_round=50 \n",
      "[CV]  boosting_type=gbdt, learning_rate=0.01, max_bin=255, max_depth=-1, n_estimators=80, num_boost_round=50, f1_macro=0.6628525235758124, recall_macro=0.6604113230941356, precision_macro=0.6918290535889264, total= 7.6min\n",
      "[CV] boosting_type=gbdt, learning_rate=0.01, max_bin=255, max_depth=-1, n_estimators=80, num_boost_round=100 \n",
      "[CV]  boosting_type=gbdt, learning_rate=0.01, max_bin=255, max_depth=-1, n_estimators=80, num_boost_round=50, f1_macro=0.6642972408716589, recall_macro=0.661335283881215, precision_macro=0.6935976903247442, total= 8.1min\n",
      "[CV] boosting_type=gbdt, learning_rate=0.01, max_bin=255, max_depth=-1, n_estimators=80, num_boost_round=100 \n",
      "[CV]  boosting_type=gbdt, learning_rate=0.01, max_bin=255, max_depth=-1, n_estimators=80, num_boost_round=50, f1_macro=0.6642194578759849, recall_macro=0.6616983224629988, precision_macro=0.6919896355127756, total= 8.2min\n",
      "[CV] boosting_type=gbdt, learning_rate=0.01, max_bin=255, max_depth=-1, n_estimators=80, num_boost_round=100 \n",
      "[CV]  boosting_type=gbdt, learning_rate=0.01, max_bin=255, max_depth=-1, n_estimators=80, num_boost_round=50, f1_macro=0.6649059811426483, recall_macro=0.661526225605674, precision_macro=0.6946636707487621, total= 7.0min\n",
      "[CV] boosting_type=gbdt, learning_rate=0.01, max_bin=255, max_depth=-1, n_estimators=80, num_boost_round=100 \n",
      "[CV]  boosting_type=gbdt, learning_rate=0.01, max_bin=255, max_depth=-1, n_estimators=80, num_boost_round=100, f1_macro=0.6628525235758124, recall_macro=0.6604113230941356, precision_macro=0.6918290535889264, total= 7.2min\n",
      "[CV] boosting_type=gbdt, learning_rate=0.01, max_bin=255, max_depth=-1, n_estimators=80, num_boost_round=100 \n",
      "[CV]  boosting_type=gbdt, learning_rate=0.01, max_bin=255, max_depth=-1, n_estimators=80, num_boost_round=100, f1_macro=0.6638925851777673, recall_macro=0.6603907992007958, precision_macro=0.6945288374746282, total= 7.9min\n",
      "[CV] boosting_type=gbdt, learning_rate=0.01, max_bin=255, max_depth=-1, n_estimators=120, num_boost_round=50 \n",
      "[CV]  boosting_type=gbdt, learning_rate=0.01, max_bin=255, max_depth=-1, n_estimators=80, num_boost_round=100, f1_macro=0.6642972408716589, recall_macro=0.661335283881215, precision_macro=0.6935976903247442, total= 8.1min\n",
      "[CV] boosting_type=gbdt, learning_rate=0.01, max_bin=255, max_depth=-1, n_estimators=120, num_boost_round=50 \n",
      "[CV]  boosting_type=gbdt, learning_rate=0.01, max_bin=255, max_depth=-1, n_estimators=80, num_boost_round=100, f1_macro=0.6642194578759849, recall_macro=0.6616983224629988, precision_macro=0.6919896355127756, total= 6.9min\n",
      "[CV] boosting_type=gbdt, learning_rate=0.01, max_bin=255, max_depth=-1, n_estimators=120, num_boost_round=50 \n",
      "[CV]  boosting_type=gbdt, learning_rate=0.01, max_bin=255, max_depth=-1, n_estimators=80, num_boost_round=100, f1_macro=0.6649059811426483, recall_macro=0.661526225605674, precision_macro=0.6946636707487621, total= 7.2min\n",
      "[CV] boosting_type=gbdt, learning_rate=0.01, max_bin=255, max_depth=-1, n_estimators=120, num_boost_round=50 \n",
      "[CV]  boosting_type=gbdt, learning_rate=0.01, max_bin=255, max_depth=-1, n_estimators=120, num_boost_round=50, f1_macro=0.6750764258790176, recall_macro=0.6713959117948027, precision_macro=0.7057980372016451, total=14.6min\n",
      "[CV] boosting_type=gbdt, learning_rate=0.01, max_bin=255, max_depth=-1, n_estimators=120, num_boost_round=50 \n",
      "[CV]  boosting_type=gbdt, learning_rate=0.01, max_bin=255, max_depth=-1, n_estimators=120, num_boost_round=50, f1_macro=0.6740456596215131, recall_macro=0.6711188057112712, precision_macro=0.7040643583385733, total=14.7min\n",
      "[CV] boosting_type=gbdt, learning_rate=0.01, max_bin=255, max_depth=-1, n_estimators=120, num_boost_round=100 \n",
      "[CV]  boosting_type=gbdt, learning_rate=0.01, max_bin=255, max_depth=-1, n_estimators=120, num_boost_round=50, f1_macro=0.6762246382731195, recall_macro=0.6732915216812748, precision_macro=0.7049681373715764, total=14.0min\n",
      "[CV] boosting_type=gbdt, learning_rate=0.01, max_bin=255, max_depth=-1, n_estimators=120, num_boost_round=100 \n",
      "[CV]  boosting_type=gbdt, learning_rate=0.01, max_bin=255, max_depth=-1, n_estimators=120, num_boost_round=50, f1_macro=0.6765465174490504, recall_macro=0.6730428044889972, precision_macro=0.7064476933653959, total=14.3min\n",
      "[CV] boosting_type=gbdt, learning_rate=0.01, max_bin=255, max_depth=-1, n_estimators=120, num_boost_round=100 \n",
      "[CV]  boosting_type=gbdt, learning_rate=0.01, max_bin=255, max_depth=-1, n_estimators=120, num_boost_round=100, f1_macro=0.6740456596215131, recall_macro=0.6711188057112712, precision_macro=0.7040643583385733, total=14.4min\n"
     ]
    },
    {
     "name": "stdout",
     "output_type": "stream",
     "text": [
      "[CV] boosting_type=gbdt, learning_rate=0.01, max_bin=255, max_depth=-1, n_estimators=120, num_boost_round=100 \n",
      "[CV]  boosting_type=gbdt, learning_rate=0.01, max_bin=255, max_depth=-1, n_estimators=120, num_boost_round=50, f1_macro=0.6777248577656145, recall_macro=0.6737580556198921, precision_macro=0.7086158523972473, total=14.4min\n",
      "[CV] boosting_type=gbdt, learning_rate=0.01, max_bin=255, max_depth=-1, n_estimators=120, num_boost_round=100 \n",
      "[CV]  boosting_type=gbdt, learning_rate=0.01, max_bin=255, max_depth=-1, n_estimators=120, num_boost_round=100, f1_macro=0.6750764258790176, recall_macro=0.6713959117948027, precision_macro=0.7057980372016451, total=15.0min\n",
      "[CV] boosting_type=gbdt, learning_rate=0.01, max_bin=510, max_depth=-1, n_estimators=20, num_boost_round=50 \n",
      "[CV]  boosting_type=gbdt, learning_rate=0.01, max_bin=255, max_depth=-1, n_estimators=120, num_boost_round=100, f1_macro=0.6765465174490504, recall_macro=0.6730428044889972, precision_macro=0.7064476933653959, total=15.0min\n",
      "[CV] boosting_type=gbdt, learning_rate=0.01, max_bin=510, max_depth=-1, n_estimators=20, num_boost_round=50 \n",
      "[CV]  boosting_type=gbdt, learning_rate=0.01, max_bin=510, max_depth=-1, n_estimators=20, num_boost_round=50, f1_macro=0.638254835770721, recall_macro=0.6325423125653361, precision_macro=0.6631565868088432, total= 1.8min\n",
      "[CV] boosting_type=gbdt, learning_rate=0.01, max_bin=510, max_depth=-1, n_estimators=20, num_boost_round=50 \n",
      "[CV]  boosting_type=gbdt, learning_rate=0.01, max_bin=510, max_depth=-1, n_estimators=20, num_boost_round=50, f1_macro=0.6386150207754883, recall_macro=0.6325986782553823, precision_macro=0.6665446609095884, total= 1.7min\n",
      "[CV] boosting_type=gbdt, learning_rate=0.01, max_bin=510, max_depth=-1, n_estimators=20, num_boost_round=50 \n",
      "[CV]  boosting_type=gbdt, learning_rate=0.01, max_bin=510, max_depth=-1, n_estimators=20, num_boost_round=50, f1_macro=0.639493582319491, recall_macro=0.6337717607181268, precision_macro=0.6643252903696782, total= 1.7min\n",
      "[CV] boosting_type=gbdt, learning_rate=0.01, max_bin=510, max_depth=-1, n_estimators=20, num_boost_round=50 \n",
      "[CV]  boosting_type=gbdt, learning_rate=0.01, max_bin=510, max_depth=-1, n_estimators=20, num_boost_round=50, f1_macro=0.63717949576948, recall_macro=0.6314750440838656, precision_macro=0.6619032767725784, total= 1.7min\n",
      "[CV] boosting_type=gbdt, learning_rate=0.01, max_bin=510, max_depth=-1, n_estimators=20, num_boost_round=100 \n",
      "[CV]  boosting_type=gbdt, learning_rate=0.01, max_bin=510, max_depth=-1, n_estimators=20, num_boost_round=50, f1_macro=0.638761420432489, recall_macro=0.6328937753717391, precision_macro=0.6641755453663617, total= 1.7min\n",
      "[CV] boosting_type=gbdt, learning_rate=0.01, max_bin=510, max_depth=-1, n_estimators=20, num_boost_round=100 \n",
      "[CV]  boosting_type=gbdt, learning_rate=0.01, max_bin=510, max_depth=-1, n_estimators=20, num_boost_round=100, f1_macro=0.638254835770721, recall_macro=0.6325423125653361, precision_macro=0.6631565868088432, total= 1.8min\n",
      "[CV] boosting_type=gbdt, learning_rate=0.01, max_bin=510, max_depth=-1, n_estimators=20, num_boost_round=100 \n",
      "[CV]  boosting_type=gbdt, learning_rate=0.01, max_bin=510, max_depth=-1, n_estimators=20, num_boost_round=100, f1_macro=0.6386150207754883, recall_macro=0.6325986782553823, precision_macro=0.6665446609095884, total= 1.8min\n",
      "[CV] boosting_type=gbdt, learning_rate=0.01, max_bin=510, max_depth=-1, n_estimators=20, num_boost_round=100 \n",
      "[CV]  boosting_type=gbdt, learning_rate=0.01, max_bin=510, max_depth=-1, n_estimators=20, num_boost_round=100, f1_macro=0.63717949576948, recall_macro=0.6314750440838656, precision_macro=0.6619032767725784, total= 1.8min\n",
      "[CV] boosting_type=gbdt, learning_rate=0.01, max_bin=510, max_depth=-1, n_estimators=20, num_boost_round=100 \n",
      "[CV]  boosting_type=gbdt, learning_rate=0.01, max_bin=510, max_depth=-1, n_estimators=20, num_boost_round=100, f1_macro=0.639493582319491, recall_macro=0.6337717607181268, precision_macro=0.6643252903696782, total= 1.7min\n",
      "[CV] boosting_type=gbdt, learning_rate=0.01, max_bin=510, max_depth=-1, n_estimators=40, num_boost_round=50 \n",
      "[CV]  boosting_type=gbdt, learning_rate=0.01, max_bin=510, max_depth=-1, n_estimators=20, num_boost_round=100, f1_macro=0.638761420432489, recall_macro=0.6328937753717391, precision_macro=0.6641755453663617, total= 1.7min\n",
      "[CV] boosting_type=gbdt, learning_rate=0.01, max_bin=510, max_depth=-1, n_estimators=40, num_boost_round=50 \n",
      "[CV]  boosting_type=gbdt, learning_rate=0.01, max_bin=255, max_depth=-1, n_estimators=120, num_boost_round=100, f1_macro=0.6777248577656145, recall_macro=0.6737580556198921, precision_macro=0.7086158523972473, total=13.9min\n",
      "[CV] boosting_type=gbdt, learning_rate=0.01, max_bin=510, max_depth=-1, n_estimators=40, num_boost_round=50 \n",
      "[CV]  boosting_type=gbdt, learning_rate=0.01, max_bin=255, max_depth=-1, n_estimators=120, num_boost_round=100, f1_macro=0.6762246382731195, recall_macro=0.6732915216812748, precision_macro=0.7049681373715764, total=14.3min\n",
      "[CV] boosting_type=gbdt, learning_rate=0.01, max_bin=510, max_depth=-1, n_estimators=40, num_boost_round=50 \n",
      "[CV]  boosting_type=gbdt, learning_rate=0.01, max_bin=510, max_depth=-1, n_estimators=40, num_boost_round=50, f1_macro=0.6514231409737424, recall_macro=0.6473692039065454, precision_macro=0.6787862843772312, total= 3.5min\n",
      "[CV] boosting_type=gbdt, learning_rate=0.01, max_bin=510, max_depth=-1, n_estimators=40, num_boost_round=50 \n",
      "[CV]  boosting_type=gbdt, learning_rate=0.01, max_bin=510, max_depth=-1, n_estimators=40, num_boost_round=50, f1_macro=0.6496782994260826, recall_macro=0.6455321769714379, precision_macro=0.6797053334549208, total= 3.6min\n",
      "[CV] boosting_type=gbdt, learning_rate=0.01, max_bin=510, max_depth=-1, n_estimators=40, num_boost_round=100 \n",
      "[CV]  boosting_type=gbdt, learning_rate=0.01, max_bin=510, max_depth=-1, n_estimators=40, num_boost_round=50, f1_macro=0.6510742736019137, recall_macro=0.6468280372440128, precision_macro=0.6786388284845809, total= 3.5min\n",
      "[CV] boosting_type=gbdt, learning_rate=0.01, max_bin=510, max_depth=-1, n_estimators=40, num_boost_round=100 \n",
      "[CV]  boosting_type=gbdt, learning_rate=0.01, max_bin=510, max_depth=-1, n_estimators=40, num_boost_round=50, f1_macro=0.6530668635199678, recall_macro=0.6488493118432753, precision_macro=0.6803760927083186, total= 3.6min\n",
      "[CV] boosting_type=gbdt, learning_rate=0.01, max_bin=510, max_depth=-1, n_estimators=40, num_boost_round=100 \n",
      "[CV]  boosting_type=gbdt, learning_rate=0.01, max_bin=510, max_depth=-1, n_estimators=40, num_boost_round=50, f1_macro=0.6509289564270301, recall_macro=0.6467594433874176, precision_macro=0.6777753579843453, total= 3.5min\n",
      "[CV] boosting_type=gbdt, learning_rate=0.01, max_bin=510, max_depth=-1, n_estimators=40, num_boost_round=100 \n",
      "[CV]  boosting_type=gbdt, learning_rate=0.01, max_bin=510, max_depth=-1, n_estimators=40, num_boost_round=100, f1_macro=0.6514231409737424, recall_macro=0.6473692039065454, precision_macro=0.6787862843772312, total= 3.4min\n",
      "[CV] boosting_type=gbdt, learning_rate=0.01, max_bin=510, max_depth=-1, n_estimators=40, num_boost_round=100 \n",
      "[CV]  boosting_type=gbdt, learning_rate=0.01, max_bin=510, max_depth=-1, n_estimators=40, num_boost_round=100, f1_macro=0.6496782994260826, recall_macro=0.6455321769714379, precision_macro=0.6797053334549208, total= 3.5min\n",
      "[CV] boosting_type=gbdt, learning_rate=0.01, max_bin=510, max_depth=-1, n_estimators=80, num_boost_round=50 \n",
      "[CV]  boosting_type=gbdt, learning_rate=0.01, max_bin=510, max_depth=-1, n_estimators=40, num_boost_round=100, f1_macro=0.6510742736019137, recall_macro=0.6468280372440128, precision_macro=0.6786388284845809, total= 3.4min\n",
      "[CV] boosting_type=gbdt, learning_rate=0.01, max_bin=510, max_depth=-1, n_estimators=80, num_boost_round=50 \n",
      "[CV]  boosting_type=gbdt, learning_rate=0.01, max_bin=510, max_depth=-1, n_estimators=40, num_boost_round=100, f1_macro=0.6530668635199678, recall_macro=0.6488493118432753, precision_macro=0.6803760927083186, total= 3.6min\n",
      "[CV] boosting_type=gbdt, learning_rate=0.01, max_bin=510, max_depth=-1, n_estimators=80, num_boost_round=50 \n",
      "[CV]  boosting_type=gbdt, learning_rate=0.01, max_bin=510, max_depth=-1, n_estimators=40, num_boost_round=100, f1_macro=0.6509289564270301, recall_macro=0.6467594433874176, precision_macro=0.6777753579843453, total= 3.6min\n"
     ]
    },
    {
     "name": "stdout",
     "output_type": "stream",
     "text": [
      "[CV] boosting_type=gbdt, learning_rate=0.01, max_bin=510, max_depth=-1, n_estimators=80, num_boost_round=50 \n",
      "[CV]  boosting_type=gbdt, learning_rate=0.01, max_bin=510, max_depth=-1, n_estimators=80, num_boost_round=50, f1_macro=0.6631045468581134, recall_macro=0.6602569820443319, precision_macro=0.6924267151154133, total= 7.2min\n",
      "[CV] boosting_type=gbdt, learning_rate=0.01, max_bin=510, max_depth=-1, n_estimators=80, num_boost_round=50 \n",
      "[CV]  boosting_type=gbdt, learning_rate=0.01, max_bin=510, max_depth=-1, n_estimators=80, num_boost_round=50, f1_macro=0.6634342063242946, recall_macro=0.6598633130767929, precision_macro=0.6940931845519048, total= 8.1min\n",
      "[CV] boosting_type=gbdt, learning_rate=0.01, max_bin=510, max_depth=-1, n_estimators=80, num_boost_round=100 \n",
      "[CV]  boosting_type=gbdt, learning_rate=0.01, max_bin=510, max_depth=-1, n_estimators=80, num_boost_round=50, f1_macro=0.6647100912881095, recall_macro=0.6620385202178777, precision_macro=0.6929813462485382, total= 8.6min\n",
      "[CV] boosting_type=gbdt, learning_rate=0.01, max_bin=510, max_depth=-1, n_estimators=80, num_boost_round=100 \n",
      "[CV]  boosting_type=gbdt, learning_rate=0.01, max_bin=510, max_depth=-1, n_estimators=80, num_boost_round=50, f1_macro=0.6634810046384042, recall_macro=0.6605020430929242, precision_macro=0.6921590241787521, total= 8.7min\n",
      "[CV] boosting_type=gbdt, learning_rate=0.01, max_bin=510, max_depth=-1, n_estimators=80, num_boost_round=100 \n"
     ]
    },
    {
     "name": "stderr",
     "output_type": "stream",
     "text": [
      "[Parallel(n_jobs=-1)]: Done  64 tasks      | elapsed: 234.7min\n"
     ]
    },
    {
     "name": "stdout",
     "output_type": "stream",
     "text": [
      "[CV]  boosting_type=gbdt, learning_rate=0.01, max_bin=510, max_depth=-1, n_estimators=80, num_boost_round=50, f1_macro=0.6649919921556399, recall_macro=0.6615523952548571, precision_macro=0.6944346923520501, total= 7.1min\n",
      "[CV] boosting_type=gbdt, learning_rate=0.01, max_bin=510, max_depth=-1, n_estimators=80, num_boost_round=100 \n",
      "[CV]  boosting_type=gbdt, learning_rate=0.01, max_bin=510, max_depth=-1, n_estimators=80, num_boost_round=100, f1_macro=0.6631045468581134, recall_macro=0.6602569820443319, precision_macro=0.6924267151154133, total= 8.0min\n",
      "[CV] boosting_type=gbdt, learning_rate=0.01, max_bin=510, max_depth=-1, n_estimators=80, num_boost_round=100 \n",
      "[CV]  boosting_type=gbdt, learning_rate=0.01, max_bin=510, max_depth=-1, n_estimators=80, num_boost_round=100, f1_macro=0.6634342063242946, recall_macro=0.6598633130767929, precision_macro=0.6940931845519048, total= 9.0min\n",
      "[CV] boosting_type=gbdt, learning_rate=0.01, max_bin=510, max_depth=-1, n_estimators=120, num_boost_round=50 \n",
      "[CV]  boosting_type=gbdt, learning_rate=0.01, max_bin=510, max_depth=-1, n_estimators=80, num_boost_round=100, f1_macro=0.6634810046384042, recall_macro=0.6605020430929242, precision_macro=0.6921590241787521, total= 9.0min\n",
      "[CV] boosting_type=gbdt, learning_rate=0.01, max_bin=510, max_depth=-1, n_estimators=120, num_boost_round=50 \n",
      "[CV]  boosting_type=gbdt, learning_rate=0.01, max_bin=510, max_depth=-1, n_estimators=80, num_boost_round=100, f1_macro=0.6647100912881095, recall_macro=0.6620385202178777, precision_macro=0.6929813462485382, total= 7.6min\n",
      "[CV] boosting_type=gbdt, learning_rate=0.01, max_bin=510, max_depth=-1, n_estimators=120, num_boost_round=50 \n",
      "[CV]  boosting_type=gbdt, learning_rate=0.01, max_bin=510, max_depth=-1, n_estimators=80, num_boost_round=100, f1_macro=0.6649919921556399, recall_macro=0.6615523952548571, precision_macro=0.6944346923520501, total= 7.9min\n",
      "[CV] boosting_type=gbdt, learning_rate=0.01, max_bin=510, max_depth=-1, n_estimators=120, num_boost_round=50 \n",
      "[CV]  boosting_type=gbdt, learning_rate=0.01, max_bin=510, max_depth=-1, n_estimators=120, num_boost_round=50, f1_macro=0.6741205310078916, recall_macro=0.6711937663520552, precision_macro=0.70397594326153, total=15.4min\n",
      "[CV] boosting_type=gbdt, learning_rate=0.01, max_bin=510, max_depth=-1, n_estimators=120, num_boost_round=50 \n",
      "[CV]  boosting_type=gbdt, learning_rate=0.01, max_bin=510, max_depth=-1, n_estimators=120, num_boost_round=50, f1_macro=0.6752947037294463, recall_macro=0.6717258986001687, precision_macro=0.7059742551630784, total=15.3min\n",
      "[CV] boosting_type=gbdt, learning_rate=0.01, max_bin=510, max_depth=-1, n_estimators=120, num_boost_round=100 \n",
      "[CV]  boosting_type=gbdt, learning_rate=0.01, max_bin=510, max_depth=-1, n_estimators=120, num_boost_round=50, f1_macro=0.676652637096542, recall_macro=0.6731459333146795, precision_macro=0.7064436874009834, total=14.9min\n",
      "[CV] boosting_type=gbdt, learning_rate=0.01, max_bin=510, max_depth=-1, n_estimators=120, num_boost_round=100 \n",
      "[CV]  boosting_type=gbdt, learning_rate=0.01, max_bin=510, max_depth=-1, n_estimators=120, num_boost_round=50, f1_macro=0.6764867892246377, recall_macro=0.6735460942156202, precision_macro=0.7050623175107087, total=15.1min\n",
      "[CV] boosting_type=gbdt, learning_rate=0.01, max_bin=510, max_depth=-1, n_estimators=120, num_boost_round=100 \n",
      "[CV]  boosting_type=gbdt, learning_rate=0.01, max_bin=510, max_depth=-1, n_estimators=120, num_boost_round=50, f1_macro=0.677255093139118, recall_macro=0.6736160641960222, precision_macro=0.7072953006362971, total=14.8min\n",
      "[CV] boosting_type=gbdt, learning_rate=0.01, max_bin=510, max_depth=-1, n_estimators=120, num_boost_round=100 \n",
      "[CV]  boosting_type=gbdt, learning_rate=0.01, max_bin=510, max_depth=-1, n_estimators=120, num_boost_round=100, f1_macro=0.6741205310078916, recall_macro=0.6711937663520552, precision_macro=0.70397594326153, total=15.1min\n",
      "[CV] boosting_type=gbdt, learning_rate=0.01, max_bin=510, max_depth=-1, n_estimators=120, num_boost_round=100 \n",
      "[CV]  boosting_type=gbdt, learning_rate=0.01, max_bin=510, max_depth=-1, n_estimators=120, num_boost_round=100, f1_macro=0.6752947037294463, recall_macro=0.6717258986001687, precision_macro=0.7059742551630784, total=14.8min\n",
      "[CV] boosting_type=gbdt, learning_rate=0.01, max_bin=1020, max_depth=-1, n_estimators=20, num_boost_round=50 \n",
      "[CV]  boosting_type=gbdt, learning_rate=0.01, max_bin=1020, max_depth=-1, n_estimators=20, num_boost_round=50, f1_macro=0.6375687500592634, recall_macro=0.6313886418749581, precision_macro=0.6639380447092372, total= 1.8min\n",
      "[CV] boosting_type=gbdt, learning_rate=0.01, max_bin=1020, max_depth=-1, n_estimators=20, num_boost_round=50 \n",
      "[CV]  boosting_type=gbdt, learning_rate=0.01, max_bin=510, max_depth=-1, n_estimators=120, num_boost_round=100, f1_macro=0.676652637096542, recall_macro=0.6731459333146795, precision_macro=0.7064436874009834, total=15.3min\n",
      "[CV] boosting_type=gbdt, learning_rate=0.01, max_bin=1020, max_depth=-1, n_estimators=20, num_boost_round=50 \n",
      "[CV]  boosting_type=gbdt, learning_rate=0.01, max_bin=1020, max_depth=-1, n_estimators=20, num_boost_round=50, f1_macro=0.6380210954111226, recall_macro=0.6317567181943914, precision_macro=0.666300888832467, total= 2.1min\n",
      "[CV] boosting_type=gbdt, learning_rate=0.01, max_bin=1020, max_depth=-1, n_estimators=20, num_boost_round=50 \n",
      "[CV]  boosting_type=gbdt, learning_rate=0.01, max_bin=1020, max_depth=-1, n_estimators=20, num_boost_round=50, f1_macro=0.6358694771830785, recall_macro=0.630281120176027, precision_macro=0.6601687124345077, total= 1.8min\n",
      "[CV] boosting_type=gbdt, learning_rate=0.01, max_bin=1020, max_depth=-1, n_estimators=20, num_boost_round=50 \n",
      "[CV]  boosting_type=gbdt, learning_rate=0.01, max_bin=1020, max_depth=-1, n_estimators=20, num_boost_round=50, f1_macro=0.6401321142178354, recall_macro=0.6345926834390764, precision_macro=0.6644846225191959, total= 1.8min\n",
      "[CV] boosting_type=gbdt, learning_rate=0.01, max_bin=1020, max_depth=-1, n_estimators=20, num_boost_round=100 \n",
      "[CV]  boosting_type=gbdt, learning_rate=0.01, max_bin=1020, max_depth=-1, n_estimators=20, num_boost_round=50, f1_macro=0.6387263820251561, recall_macro=0.6327566961191754, precision_macro=0.663865723680334, total= 1.8min\n",
      "[CV] boosting_type=gbdt, learning_rate=0.01, max_bin=1020, max_depth=-1, n_estimators=20, num_boost_round=100 \n",
      "[CV]  boosting_type=gbdt, learning_rate=0.01, max_bin=1020, max_depth=-1, n_estimators=20, num_boost_round=100, f1_macro=0.6375687500592634, recall_macro=0.6313886418749581, precision_macro=0.6639380447092372, total= 1.8min\n",
      "[CV] boosting_type=gbdt, learning_rate=0.01, max_bin=1020, max_depth=-1, n_estimators=20, num_boost_round=100 \n",
      "[CV]  boosting_type=gbdt, learning_rate=0.01, max_bin=1020, max_depth=-1, n_estimators=20, num_boost_round=100, f1_macro=0.6380210954111226, recall_macro=0.6317567181943914, precision_macro=0.666300888832467, total= 1.8min\n",
      "[CV] boosting_type=gbdt, learning_rate=0.01, max_bin=1020, max_depth=-1, n_estimators=20, num_boost_round=100 \n",
      "[CV]  boosting_type=gbdt, learning_rate=0.01, max_bin=1020, max_depth=-1, n_estimators=20, num_boost_round=100, f1_macro=0.6358694771830785, recall_macro=0.630281120176027, precision_macro=0.6601687124345077, total= 1.8min\n",
      "[CV] boosting_type=gbdt, learning_rate=0.01, max_bin=1020, max_depth=-1, n_estimators=20, num_boost_round=100 \n",
      "[CV]  boosting_type=gbdt, learning_rate=0.01, max_bin=1020, max_depth=-1, n_estimators=20, num_boost_round=100, f1_macro=0.6401321142178354, recall_macro=0.6345926834390764, precision_macro=0.6644846225191959, total= 1.8min\n",
      "[CV] boosting_type=gbdt, learning_rate=0.01, max_bin=1020, max_depth=-1, n_estimators=40, num_boost_round=50 \n",
      "[CV]  boosting_type=gbdt, learning_rate=0.01, max_bin=1020, max_depth=-1, n_estimators=20, num_boost_round=100, f1_macro=0.6387263820251561, recall_macro=0.6327566961191754, precision_macro=0.663865723680334, total= 1.8min\n",
      "[CV] boosting_type=gbdt, learning_rate=0.01, max_bin=1020, max_depth=-1, n_estimators=40, num_boost_round=50 \n",
      "[CV]  boosting_type=gbdt, learning_rate=0.01, max_bin=1020, max_depth=-1, n_estimators=40, num_boost_round=50, f1_macro=0.6514125045675967, recall_macro=0.646958992666886, precision_macro=0.6796039367812572, total= 3.5min\n"
     ]
    },
    {
     "name": "stdout",
     "output_type": "stream",
     "text": [
      "[CV] boosting_type=gbdt, learning_rate=0.01, max_bin=1020, max_depth=-1, n_estimators=40, num_boost_round=50 \n",
      "[CV]  boosting_type=gbdt, learning_rate=0.01, max_bin=510, max_depth=-1, n_estimators=120, num_boost_round=100, f1_macro=0.6764867892246377, recall_macro=0.6735460942156202, precision_macro=0.7050623175107087, total=14.5min\n",
      "[CV] boosting_type=gbdt, learning_rate=0.01, max_bin=1020, max_depth=-1, n_estimators=40, num_boost_round=50 \n",
      "[CV]  boosting_type=gbdt, learning_rate=0.01, max_bin=1020, max_depth=-1, n_estimators=40, num_boost_round=50, f1_macro=0.6500020070900684, recall_macro=0.6455880619775991, precision_macro=0.6799075650662251, total= 3.7min\n",
      "[CV] boosting_type=gbdt, learning_rate=0.01, max_bin=1020, max_depth=-1, n_estimators=40, num_boost_round=50 \n",
      "[CV]  boosting_type=gbdt, learning_rate=0.01, max_bin=510, max_depth=-1, n_estimators=120, num_boost_round=100, f1_macro=0.677255093139118, recall_macro=0.6736160641960222, precision_macro=0.7072953006362971, total=14.5min\n",
      "[CV] boosting_type=gbdt, learning_rate=0.01, max_bin=1020, max_depth=-1, n_estimators=40, num_boost_round=100 \n",
      "[CV]  boosting_type=gbdt, learning_rate=0.01, max_bin=1020, max_depth=-1, n_estimators=40, num_boost_round=50, f1_macro=0.6507832646450517, recall_macro=0.6465505184325616, precision_macro=0.6782727329556343, total= 3.6min\n",
      "[CV] boosting_type=gbdt, learning_rate=0.01, max_bin=1020, max_depth=-1, n_estimators=40, num_boost_round=100 \n",
      "[CV]  boosting_type=gbdt, learning_rate=0.01, max_bin=1020, max_depth=-1, n_estimators=40, num_boost_round=50, f1_macro=0.6527979511106313, recall_macro=0.6488852980633214, precision_macro=0.6795774857842362, total= 3.6min\n",
      "[CV] boosting_type=gbdt, learning_rate=0.01, max_bin=1020, max_depth=-1, n_estimators=40, num_boost_round=100 \n",
      "[CV]  boosting_type=gbdt, learning_rate=0.01, max_bin=1020, max_depth=-1, n_estimators=40, num_boost_round=50, f1_macro=0.6512724851369918, recall_macro=0.6469619654220231, precision_macro=0.6790069445714663, total= 4.0min\n",
      "[CV] boosting_type=gbdt, learning_rate=0.01, max_bin=1020, max_depth=-1, n_estimators=40, num_boost_round=100 \n",
      "[CV]  boosting_type=gbdt, learning_rate=0.01, max_bin=1020, max_depth=-1, n_estimators=40, num_boost_round=100, f1_macro=0.6514125045675967, recall_macro=0.646958992666886, precision_macro=0.6796039367812572, total= 3.9min\n",
      "[CV] boosting_type=gbdt, learning_rate=0.01, max_bin=1020, max_depth=-1, n_estimators=40, num_boost_round=100 \n",
      "[CV]  boosting_type=gbdt, learning_rate=0.01, max_bin=1020, max_depth=-1, n_estimators=40, num_boost_round=100, f1_macro=0.6500020070900684, recall_macro=0.6455880619775991, precision_macro=0.6799075650662251, total= 7.1min\n",
      "[CV] boosting_type=gbdt, learning_rate=0.01, max_bin=1020, max_depth=-1, n_estimators=80, num_boost_round=50 \n",
      "[CV]  boosting_type=gbdt, learning_rate=0.01, max_bin=1020, max_depth=-1, n_estimators=40, num_boost_round=100, f1_macro=0.6507832646450517, recall_macro=0.6465505184325616, precision_macro=0.6782727329556343, total= 4.8min\n",
      "[CV] boosting_type=gbdt, learning_rate=0.01, max_bin=1020, max_depth=-1, n_estimators=80, num_boost_round=50 \n",
      "[CV]  boosting_type=gbdt, learning_rate=0.01, max_bin=1020, max_depth=-1, n_estimators=40, num_boost_round=100, f1_macro=0.6527979511106313, recall_macro=0.6488852980633214, precision_macro=0.6795774857842362, total= 4.7min\n",
      "[CV] boosting_type=gbdt, learning_rate=0.01, max_bin=1020, max_depth=-1, n_estimators=80, num_boost_round=50 \n",
      "[CV]  boosting_type=gbdt, learning_rate=0.01, max_bin=1020, max_depth=-1, n_estimators=40, num_boost_round=100, f1_macro=0.6512724851369918, recall_macro=0.6469619654220231, precision_macro=0.6790069445714663, total= 4.7min\n",
      "[CV] boosting_type=gbdt, learning_rate=0.01, max_bin=1020, max_depth=-1, n_estimators=80, num_boost_round=50 \n",
      "[CV]  boosting_type=gbdt, learning_rate=0.01, max_bin=1020, max_depth=-1, n_estimators=80, num_boost_round=50, f1_macro=0.6634508897341981, recall_macro=0.6605792555042985, precision_macro=0.6926372455877656, total= 9.3min\n",
      "[CV] boosting_type=gbdt, learning_rate=0.01, max_bin=1020, max_depth=-1, n_estimators=80, num_boost_round=50 \n",
      "[CV]  boosting_type=gbdt, learning_rate=0.01, max_bin=1020, max_depth=-1, n_estimators=80, num_boost_round=50, f1_macro=0.6641281273875305, recall_macro=0.6604775122219079, precision_macro=0.6945596042376364, total= 9.5min\n",
      "[CV] boosting_type=gbdt, learning_rate=0.01, max_bin=1020, max_depth=-1, n_estimators=80, num_boost_round=100 \n",
      "[CV]  boosting_type=gbdt, learning_rate=0.01, max_bin=1020, max_depth=-1, n_estimators=80, num_boost_round=50, f1_macro=0.6643258437088969, recall_macro=0.661971185444301, precision_macro=0.6917647466403735, total=11.1min\n",
      "[CV] boosting_type=gbdt, learning_rate=0.01, max_bin=1020, max_depth=-1, n_estimators=80, num_boost_round=100 \n",
      "[CV]  boosting_type=gbdt, learning_rate=0.01, max_bin=1020, max_depth=-1, n_estimators=80, num_boost_round=50, f1_macro=0.6633289526694207, recall_macro=0.6604144902852799, precision_macro=0.6919929083758946, total=10.9min\n",
      "[CV] boosting_type=gbdt, learning_rate=0.01, max_bin=1020, max_depth=-1, n_estimators=80, num_boost_round=100 \n",
      "[CV]  boosting_type=gbdt, learning_rate=0.01, max_bin=1020, max_depth=-1, n_estimators=80, num_boost_round=50, f1_macro=0.6654093052283828, recall_macro=0.6619821494178709, precision_macro=0.6951705112685089, total= 9.2min\n",
      "[CV] boosting_type=gbdt, learning_rate=0.01, max_bin=1020, max_depth=-1, n_estimators=80, num_boost_round=100 \n",
      "[CV]  boosting_type=gbdt, learning_rate=0.01, max_bin=1020, max_depth=-1, n_estimators=80, num_boost_round=100, f1_macro=0.6634508897341981, recall_macro=0.6605792555042985, precision_macro=0.6926372455877656, total= 9.6min\n",
      "[CV] boosting_type=gbdt, learning_rate=0.01, max_bin=1020, max_depth=-1, n_estimators=80, num_boost_round=100 \n",
      "[CV]  boosting_type=gbdt, learning_rate=0.01, max_bin=1020, max_depth=-1, n_estimators=80, num_boost_round=100, f1_macro=0.6641281273875305, recall_macro=0.6604775122219079, precision_macro=0.6945596042376364, total=10.0min\n",
      "[CV] boosting_type=gbdt, learning_rate=0.01, max_bin=1020, max_depth=-1, n_estimators=120, num_boost_round=50 \n",
      "[CV]  boosting_type=gbdt, learning_rate=0.01, max_bin=1020, max_depth=-1, n_estimators=80, num_boost_round=100, f1_macro=0.6633289526694207, recall_macro=0.6604144902852799, precision_macro=0.6919929083758946, total= 9.9min\n",
      "[CV] boosting_type=gbdt, learning_rate=0.01, max_bin=1020, max_depth=-1, n_estimators=120, num_boost_round=50 \n",
      "[CV]  boosting_type=gbdt, learning_rate=0.01, max_bin=1020, max_depth=-1, n_estimators=80, num_boost_round=100, f1_macro=0.6643258437088969, recall_macro=0.661971185444301, precision_macro=0.6917647466403735, total= 9.5min\n",
      "[CV] boosting_type=gbdt, learning_rate=0.01, max_bin=1020, max_depth=-1, n_estimators=120, num_boost_round=50 \n",
      "[CV]  boosting_type=gbdt, learning_rate=0.01, max_bin=1020, max_depth=-1, n_estimators=80, num_boost_round=100, f1_macro=0.6654093052283828, recall_macro=0.6619821494178709, precision_macro=0.6951705112685089, total= 9.0min\n",
      "[CV] boosting_type=gbdt, learning_rate=0.01, max_bin=1020, max_depth=-1, n_estimators=120, num_boost_round=50 \n",
      "[CV]  boosting_type=gbdt, learning_rate=0.01, max_bin=1020, max_depth=-1, n_estimators=120, num_boost_round=50, f1_macro=0.6753002683568012, recall_macro=0.6720371588442169, precision_macro=0.7053562891017887, total=16.7min\n",
      "[CV] boosting_type=gbdt, learning_rate=0.01, max_bin=1020, max_depth=-1, n_estimators=120, num_boost_round=50 \n",
      "[CV]  boosting_type=gbdt, learning_rate=0.01, max_bin=1020, max_depth=-1, n_estimators=120, num_boost_round=50, f1_macro=0.6744149167365284, recall_macro=0.6709358764142386, precision_macro=0.7049127132094299, total=16.8min\n",
      "[CV] boosting_type=gbdt, learning_rate=0.01, max_bin=1020, max_depth=-1, n_estimators=120, num_boost_round=100 \n",
      "[CV]  boosting_type=gbdt, learning_rate=0.01, max_bin=1020, max_depth=-1, n_estimators=120, num_boost_round=50, f1_macro=0.6767407796254948, recall_macro=0.6733117885794399, precision_macro=0.706269195084328, total=14.4min\n",
      "[CV] boosting_type=gbdt, learning_rate=0.01, max_bin=1020, max_depth=-1, n_estimators=120, num_boost_round=100 \n",
      "[CV]  boosting_type=gbdt, learning_rate=0.01, max_bin=1020, max_depth=-1, n_estimators=120, num_boost_round=50, f1_macro=0.6768789389732094, recall_macro=0.6740335908765078, precision_macro=0.7053653463519404, total=14.7min\n"
     ]
    },
    {
     "name": "stdout",
     "output_type": "stream",
     "text": [
      "[CV] boosting_type=gbdt, learning_rate=0.01, max_bin=1020, max_depth=-1, n_estimators=120, num_boost_round=100 \n",
      "[CV]  boosting_type=gbdt, learning_rate=0.01, max_bin=1020, max_depth=-1, n_estimators=120, num_boost_round=50, f1_macro=0.6773993880503036, recall_macro=0.6736875944708148, precision_macro=0.7077176087024944, total=15.4min\n",
      "[CV] boosting_type=gbdt, learning_rate=0.01, max_bin=1020, max_depth=-1, n_estimators=120, num_boost_round=100 \n",
      "[CV]  boosting_type=gbdt, learning_rate=0.01, max_bin=1020, max_depth=-1, n_estimators=120, num_boost_round=100, f1_macro=0.6753002683568012, recall_macro=0.6720371588442169, precision_macro=0.7053562891017887, total=15.5min\n",
      "[CV] boosting_type=gbdt, learning_rate=0.01, max_bin=1020, max_depth=-1, n_estimators=120, num_boost_round=100 \n",
      "[CV]  boosting_type=gbdt, learning_rate=0.01, max_bin=1020, max_depth=-1, n_estimators=120, num_boost_round=100, f1_macro=0.6744149167365284, recall_macro=0.6709358764142386, precision_macro=0.7049127132094299, total=14.5min\n",
      "[CV] boosting_type=gbdt, learning_rate=0.1, max_bin=255, max_depth=-1, n_estimators=20, num_boost_round=50 \n",
      "[CV]  boosting_type=gbdt, learning_rate=0.1, max_bin=255, max_depth=-1, n_estimators=20, num_boost_round=50, f1_macro=0.695370893840555, recall_macro=0.6911901983234036, precision_macro=0.7234587702930596, total= 1.6min\n",
      "[CV] boosting_type=gbdt, learning_rate=0.1, max_bin=255, max_depth=-1, n_estimators=20, num_boost_round=50 \n",
      "[CV]  boosting_type=gbdt, learning_rate=0.01, max_bin=1020, max_depth=-1, n_estimators=120, num_boost_round=100, f1_macro=0.6767407796254948, recall_macro=0.6733117885794399, precision_macro=0.706269195084328, total=14.4min\n",
      "[CV] boosting_type=gbdt, learning_rate=0.1, max_bin=255, max_depth=-1, n_estimators=20, num_boost_round=50 \n",
      "[CV]  boosting_type=gbdt, learning_rate=0.1, max_bin=255, max_depth=-1, n_estimators=20, num_boost_round=50, f1_macro=0.694992383306236, recall_macro=0.6900686758978415, precision_macro=0.7244674867417514, total= 2.0min\n",
      "[CV] boosting_type=gbdt, learning_rate=0.1, max_bin=255, max_depth=-1, n_estimators=20, num_boost_round=50 \n",
      "[CV]  boosting_type=gbdt, learning_rate=0.1, max_bin=255, max_depth=-1, n_estimators=20, num_boost_round=50, f1_macro=0.6973115191411008, recall_macro=0.6928985762694094, precision_macro=0.7254568416673247, total= 1.9min\n",
      "[CV] boosting_type=gbdt, learning_rate=0.1, max_bin=255, max_depth=-1, n_estimators=20, num_boost_round=50 \n",
      "[CV]  boosting_type=gbdt, learning_rate=0.1, max_bin=255, max_depth=-1, n_estimators=20, num_boost_round=50, f1_macro=0.696571271864307, recall_macro=0.6923668377824908, precision_macro=0.7244666643579096, total= 2.2min\n",
      "[CV] boosting_type=gbdt, learning_rate=0.1, max_bin=255, max_depth=-1, n_estimators=20, num_boost_round=100 \n",
      "[CV]  boosting_type=gbdt, learning_rate=0.1, max_bin=255, max_depth=-1, n_estimators=20, num_boost_round=50, f1_macro=0.6957439649809584, recall_macro=0.6913142524063628, precision_macro=0.7236542615730169, total= 2.1min\n",
      "[CV] boosting_type=gbdt, learning_rate=0.1, max_bin=255, max_depth=-1, n_estimators=20, num_boost_round=100 \n",
      "[CV]  boosting_type=gbdt, learning_rate=0.1, max_bin=255, max_depth=-1, n_estimators=20, num_boost_round=100, f1_macro=0.695370893840555, recall_macro=0.6911901983234036, precision_macro=0.7234587702930596, total= 5.2min\n",
      "[CV] boosting_type=gbdt, learning_rate=0.1, max_bin=255, max_depth=-1, n_estimators=20, num_boost_round=100 \n",
      "[CV]  boosting_type=gbdt, learning_rate=0.1, max_bin=255, max_depth=-1, n_estimators=20, num_boost_round=100, f1_macro=0.694992383306236, recall_macro=0.6900686758978415, precision_macro=0.7244674867417514, total= 5.1min\n",
      "[CV] boosting_type=gbdt, learning_rate=0.1, max_bin=255, max_depth=-1, n_estimators=20, num_boost_round=100 \n",
      "[CV]  boosting_type=gbdt, learning_rate=0.1, max_bin=255, max_depth=-1, n_estimators=20, num_boost_round=100, f1_macro=0.6973115191411008, recall_macro=0.6928985762694094, precision_macro=0.7254568416673247, total= 2.1min\n",
      "[CV] boosting_type=gbdt, learning_rate=0.1, max_bin=255, max_depth=-1, n_estimators=20, num_boost_round=100 \n",
      "[CV]  boosting_type=gbdt, learning_rate=0.1, max_bin=255, max_depth=-1, n_estimators=20, num_boost_round=100, f1_macro=0.696571271864307, recall_macro=0.6923668377824908, precision_macro=0.7244666643579096, total= 2.1min\n",
      "[CV] boosting_type=gbdt, learning_rate=0.1, max_bin=255, max_depth=-1, n_estimators=40, num_boost_round=50 \n",
      "[CV]  boosting_type=gbdt, learning_rate=0.1, max_bin=255, max_depth=-1, n_estimators=20, num_boost_round=100, f1_macro=0.6957439649809584, recall_macro=0.6913142524063628, precision_macro=0.7236542615730169, total= 2.3min\n",
      "[CV] boosting_type=gbdt, learning_rate=0.1, max_bin=255, max_depth=-1, n_estimators=40, num_boost_round=50 \n",
      "[CV]  boosting_type=gbdt, learning_rate=0.01, max_bin=1020, max_depth=-1, n_estimators=120, num_boost_round=100, f1_macro=0.6768789389732094, recall_macro=0.6740335908765078, precision_macro=0.7053653463519404, total=14.4min\n",
      "[CV] boosting_type=gbdt, learning_rate=0.1, max_bin=255, max_depth=-1, n_estimators=40, num_boost_round=50 \n",
      "[CV]  boosting_type=gbdt, learning_rate=0.01, max_bin=1020, max_depth=-1, n_estimators=120, num_boost_round=100, f1_macro=0.6773993880503036, recall_macro=0.6736875944708148, precision_macro=0.7077176087024944, total=14.5min\n",
      "[CV] boosting_type=gbdt, learning_rate=0.1, max_bin=255, max_depth=-1, n_estimators=40, num_boost_round=50 \n",
      "[CV]  boosting_type=gbdt, learning_rate=0.1, max_bin=255, max_depth=-1, n_estimators=40, num_boost_round=50, f1_macro=0.7332888530890839, recall_macro=0.727167834832329, precision_macro=0.7566199102909578, total= 4.7min\n",
      "[CV] boosting_type=gbdt, learning_rate=0.1, max_bin=255, max_depth=-1, n_estimators=40, num_boost_round=50 \n",
      "[CV]  boosting_type=gbdt, learning_rate=0.1, max_bin=255, max_depth=-1, n_estimators=40, num_boost_round=50, f1_macro=0.7323464256603938, recall_macro=0.725620661787621, precision_macro=0.7566613669556651, total= 3.9min\n",
      "[CV] boosting_type=gbdt, learning_rate=0.1, max_bin=255, max_depth=-1, n_estimators=40, num_boost_round=100 \n",
      "[CV]  boosting_type=gbdt, learning_rate=0.1, max_bin=255, max_depth=-1, n_estimators=40, num_boost_round=50, f1_macro=0.7338592337574702, recall_macro=0.7274619134855476, precision_macro=0.7573057745651847, total= 3.8min\n",
      "[CV] boosting_type=gbdt, learning_rate=0.1, max_bin=255, max_depth=-1, n_estimators=40, num_boost_round=100 \n",
      "[CV]  boosting_type=gbdt, learning_rate=0.1, max_bin=255, max_depth=-1, n_estimators=40, num_boost_round=50, f1_macro=0.7346784094640721, recall_macro=0.7286908157464543, precision_macro=0.757670689379191, total= 4.1min\n",
      "[CV] boosting_type=gbdt, learning_rate=0.1, max_bin=255, max_depth=-1, n_estimators=40, num_boost_round=100 \n",
      "[CV]  boosting_type=gbdt, learning_rate=0.1, max_bin=255, max_depth=-1, n_estimators=40, num_boost_round=50, f1_macro=0.7352427017085894, recall_macro=0.7290862139678577, precision_macro=0.758355438283389, total=45.7min\n",
      "[CV] boosting_type=gbdt, learning_rate=0.1, max_bin=255, max_depth=-1, n_estimators=40, num_boost_round=100 \n",
      "[CV]  boosting_type=gbdt, learning_rate=0.1, max_bin=255, max_depth=-1, n_estimators=40, num_boost_round=100, f1_macro=0.7332888530890839, recall_macro=0.727167834832329, precision_macro=0.7566199102909578, total=43.9min\n",
      "[CV] boosting_type=gbdt, learning_rate=0.1, max_bin=255, max_depth=-1, n_estimators=40, num_boost_round=100 \n",
      "[CV]  boosting_type=gbdt, learning_rate=0.1, max_bin=255, max_depth=-1, n_estimators=40, num_boost_round=100, f1_macro=0.7323464256603938, recall_macro=0.725620661787621, precision_macro=0.7566613669556651, total= 6.6min\n",
      "[CV] boosting_type=gbdt, learning_rate=0.1, max_bin=255, max_depth=-1, n_estimators=80, num_boost_round=50 \n",
      "[CV]  boosting_type=gbdt, learning_rate=0.1, max_bin=255, max_depth=-1, n_estimators=40, num_boost_round=100, f1_macro=0.7338592337574702, recall_macro=0.7274619134855476, precision_macro=0.7573057745651847, total= 6.0min\n",
      "[CV] boosting_type=gbdt, learning_rate=0.1, max_bin=255, max_depth=-1, n_estimators=80, num_boost_round=50 \n",
      "[CV]  boosting_type=gbdt, learning_rate=0.1, max_bin=255, max_depth=-1, n_estimators=40, num_boost_round=100, f1_macro=0.7346784094640721, recall_macro=0.7286908157464543, precision_macro=0.757670689379191, total= 7.1min\n"
     ]
    },
    {
     "name": "stdout",
     "output_type": "stream",
     "text": [
      "[CV] boosting_type=gbdt, learning_rate=0.1, max_bin=255, max_depth=-1, n_estimators=80, num_boost_round=50 \n",
      "[CV]  boosting_type=gbdt, learning_rate=0.1, max_bin=255, max_depth=-1, n_estimators=40, num_boost_round=100, f1_macro=0.7352427017085894, recall_macro=0.7290862139678577, precision_macro=0.758355438283389, total= 5.4min\n",
      "[CV] boosting_type=gbdt, learning_rate=0.1, max_bin=255, max_depth=-1, n_estimators=80, num_boost_round=50 \n",
      "[CV]  boosting_type=gbdt, learning_rate=0.1, max_bin=255, max_depth=-1, n_estimators=80, num_boost_round=50, f1_macro=0.7736446941420496, recall_macro=0.7667941325917531, precision_macro=0.7896155076640946, total=608.1min\n",
      "[CV] boosting_type=gbdt, learning_rate=0.1, max_bin=255, max_depth=-1, n_estimators=80, num_boost_round=50 \n",
      "[CV]  boosting_type=gbdt, learning_rate=0.1, max_bin=255, max_depth=-1, n_estimators=80, num_boost_round=50, f1_macro=0.7733933225756524, recall_macro=0.7674752181471561, precision_macro=0.7882087868337431, total=608.3min\n",
      "[CV] boosting_type=gbdt, learning_rate=0.1, max_bin=255, max_depth=-1, n_estimators=80, num_boost_round=100 \n",
      "[CV]  boosting_type=gbdt, learning_rate=0.1, max_bin=255, max_depth=-1, n_estimators=80, num_boost_round=50, f1_macro=0.7731073176098483, recall_macro=0.7674138831999758, precision_macro=0.7876846811657136, total=609.6min\n",
      "[CV] boosting_type=gbdt, learning_rate=0.1, max_bin=255, max_depth=-1, n_estimators=80, num_boost_round=100 \n",
      "[CV]  boosting_type=gbdt, learning_rate=0.1, max_bin=255, max_depth=-1, n_estimators=80, num_boost_round=50, f1_macro=0.7745896100448357, recall_macro=0.768937686990295, precision_macro=0.789190601118002, total=613.4min\n",
      "[CV] boosting_type=gbdt, learning_rate=0.1, max_bin=255, max_depth=-1, n_estimators=80, num_boost_round=100 \n"
     ]
    },
    {
     "ename": "KeyboardInterrupt",
     "evalue": "",
     "output_type": "error",
     "traceback": [
      "\u001b[0;31m---------------------------------------------------------------------------\u001b[0m",
      "\u001b[0;31mKeyboardInterrupt\u001b[0m                         Traceback (most recent call last)",
      "\u001b[0;32m~/anaconda/lib/python3.6/site-packages/sklearn/externals/joblib/parallel.py\u001b[0m in \u001b[0;36mretrieve\u001b[0;34m(self)\u001b[0m\n\u001b[1;32m    698\u001b[0m                 \u001b[0;32mif\u001b[0m \u001b[0mgetattr\u001b[0m\u001b[0;34m(\u001b[0m\u001b[0mself\u001b[0m\u001b[0;34m.\u001b[0m\u001b[0m_backend\u001b[0m\u001b[0;34m,\u001b[0m \u001b[0;34m'supports_timeout'\u001b[0m\u001b[0;34m,\u001b[0m \u001b[0;32mFalse\u001b[0m\u001b[0;34m)\u001b[0m\u001b[0;34m:\u001b[0m\u001b[0;34m\u001b[0m\u001b[0m\n\u001b[0;32m--> 699\u001b[0;31m                     \u001b[0mself\u001b[0m\u001b[0;34m.\u001b[0m\u001b[0m_output\u001b[0m\u001b[0;34m.\u001b[0m\u001b[0mextend\u001b[0m\u001b[0;34m(\u001b[0m\u001b[0mjob\u001b[0m\u001b[0;34m.\u001b[0m\u001b[0mget\u001b[0m\u001b[0;34m(\u001b[0m\u001b[0mtimeout\u001b[0m\u001b[0;34m=\u001b[0m\u001b[0mself\u001b[0m\u001b[0;34m.\u001b[0m\u001b[0mtimeout\u001b[0m\u001b[0;34m)\u001b[0m\u001b[0;34m)\u001b[0m\u001b[0;34m\u001b[0m\u001b[0m\n\u001b[0m\u001b[1;32m    700\u001b[0m                 \u001b[0;32melse\u001b[0m\u001b[0;34m:\u001b[0m\u001b[0;34m\u001b[0m\u001b[0m\n",
      "\u001b[0;32m~/anaconda/lib/python3.6/multiprocessing/pool.py\u001b[0m in \u001b[0;36mget\u001b[0;34m(self, timeout)\u001b[0m\n\u001b[1;32m    637\u001b[0m     \u001b[0;32mdef\u001b[0m \u001b[0mget\u001b[0m\u001b[0;34m(\u001b[0m\u001b[0mself\u001b[0m\u001b[0;34m,\u001b[0m \u001b[0mtimeout\u001b[0m\u001b[0;34m=\u001b[0m\u001b[0;32mNone\u001b[0m\u001b[0;34m)\u001b[0m\u001b[0;34m:\u001b[0m\u001b[0;34m\u001b[0m\u001b[0m\n\u001b[0;32m--> 638\u001b[0;31m         \u001b[0mself\u001b[0m\u001b[0;34m.\u001b[0m\u001b[0mwait\u001b[0m\u001b[0;34m(\u001b[0m\u001b[0mtimeout\u001b[0m\u001b[0;34m)\u001b[0m\u001b[0;34m\u001b[0m\u001b[0m\n\u001b[0m\u001b[1;32m    639\u001b[0m         \u001b[0;32mif\u001b[0m \u001b[0;32mnot\u001b[0m \u001b[0mself\u001b[0m\u001b[0;34m.\u001b[0m\u001b[0mready\u001b[0m\u001b[0;34m(\u001b[0m\u001b[0;34m)\u001b[0m\u001b[0;34m:\u001b[0m\u001b[0;34m\u001b[0m\u001b[0m\n",
      "\u001b[0;32m~/anaconda/lib/python3.6/multiprocessing/pool.py\u001b[0m in \u001b[0;36mwait\u001b[0;34m(self, timeout)\u001b[0m\n\u001b[1;32m    634\u001b[0m     \u001b[0;32mdef\u001b[0m \u001b[0mwait\u001b[0m\u001b[0;34m(\u001b[0m\u001b[0mself\u001b[0m\u001b[0;34m,\u001b[0m \u001b[0mtimeout\u001b[0m\u001b[0;34m=\u001b[0m\u001b[0;32mNone\u001b[0m\u001b[0;34m)\u001b[0m\u001b[0;34m:\u001b[0m\u001b[0;34m\u001b[0m\u001b[0m\n\u001b[0;32m--> 635\u001b[0;31m         \u001b[0mself\u001b[0m\u001b[0;34m.\u001b[0m\u001b[0m_event\u001b[0m\u001b[0;34m.\u001b[0m\u001b[0mwait\u001b[0m\u001b[0;34m(\u001b[0m\u001b[0mtimeout\u001b[0m\u001b[0;34m)\u001b[0m\u001b[0;34m\u001b[0m\u001b[0m\n\u001b[0m\u001b[1;32m    636\u001b[0m \u001b[0;34m\u001b[0m\u001b[0m\n",
      "\u001b[0;32m~/anaconda/lib/python3.6/threading.py\u001b[0m in \u001b[0;36mwait\u001b[0;34m(self, timeout)\u001b[0m\n\u001b[1;32m    550\u001b[0m             \u001b[0;32mif\u001b[0m \u001b[0;32mnot\u001b[0m \u001b[0msignaled\u001b[0m\u001b[0;34m:\u001b[0m\u001b[0;34m\u001b[0m\u001b[0m\n\u001b[0;32m--> 551\u001b[0;31m                 \u001b[0msignaled\u001b[0m \u001b[0;34m=\u001b[0m \u001b[0mself\u001b[0m\u001b[0;34m.\u001b[0m\u001b[0m_cond\u001b[0m\u001b[0;34m.\u001b[0m\u001b[0mwait\u001b[0m\u001b[0;34m(\u001b[0m\u001b[0mtimeout\u001b[0m\u001b[0;34m)\u001b[0m\u001b[0;34m\u001b[0m\u001b[0m\n\u001b[0m\u001b[1;32m    552\u001b[0m             \u001b[0;32mreturn\u001b[0m \u001b[0msignaled\u001b[0m\u001b[0;34m\u001b[0m\u001b[0m\n",
      "\u001b[0;32m~/anaconda/lib/python3.6/threading.py\u001b[0m in \u001b[0;36mwait\u001b[0;34m(self, timeout)\u001b[0m\n\u001b[1;32m    294\u001b[0m             \u001b[0;32mif\u001b[0m \u001b[0mtimeout\u001b[0m \u001b[0;32mis\u001b[0m \u001b[0;32mNone\u001b[0m\u001b[0;34m:\u001b[0m\u001b[0;34m\u001b[0m\u001b[0m\n\u001b[0;32m--> 295\u001b[0;31m                 \u001b[0mwaiter\u001b[0m\u001b[0;34m.\u001b[0m\u001b[0macquire\u001b[0m\u001b[0;34m(\u001b[0m\u001b[0;34m)\u001b[0m\u001b[0;34m\u001b[0m\u001b[0m\n\u001b[0m\u001b[1;32m    296\u001b[0m                 \u001b[0mgotit\u001b[0m \u001b[0;34m=\u001b[0m \u001b[0;32mTrue\u001b[0m\u001b[0;34m\u001b[0m\u001b[0m\n",
      "\u001b[0;31mKeyboardInterrupt\u001b[0m: ",
      "\nDuring handling of the above exception, another exception occurred:\n",
      "\u001b[0;31mKeyboardInterrupt\u001b[0m                         Traceback (most recent call last)",
      "\u001b[0;32m<ipython-input-151-073a79a7eead>\u001b[0m in \u001b[0;36m<module>\u001b[0;34m()\u001b[0m\n\u001b[1;32m      8\u001b[0m \u001b[0;34m\u001b[0m\u001b[0m\n\u001b[1;32m      9\u001b[0m \u001b[0;31m# Fit randomized CV grid\u001b[0m\u001b[0;34m\u001b[0m\u001b[0;34m\u001b[0m\u001b[0m\n\u001b[0;32m---> 10\u001b[0;31m \u001b[0mgrid_lgb\u001b[0m\u001b[0;34m.\u001b[0m\u001b[0mfit\u001b[0m\u001b[0;34m(\u001b[0m\u001b[0mX_train\u001b[0m\u001b[0;34m,\u001b[0m\u001b[0my_train\u001b[0m\u001b[0;34m)\u001b[0m\u001b[0;34m\u001b[0m\u001b[0m\n\u001b[0m\u001b[1;32m     11\u001b[0m \u001b[0;34m\u001b[0m\u001b[0m\n\u001b[1;32m     12\u001b[0m \u001b[0mprint\u001b[0m\u001b[0;34m(\u001b[0m\u001b[0;34m'{:.2f}'\u001b[0m\u001b[0;34m.\u001b[0m\u001b[0mformat\u001b[0m\u001b[0;34m(\u001b[0m\u001b[0mdefault_timer\u001b[0m\u001b[0;34m(\u001b[0m\u001b[0;34m)\u001b[0m\u001b[0;34m-\u001b[0m\u001b[0mstart\u001b[0m\u001b[0;34m)\u001b[0m\u001b[0;34m)\u001b[0m\u001b[0;34m\u001b[0m\u001b[0m\n",
      "\u001b[0;32m~/anaconda/lib/python3.6/site-packages/sklearn/model_selection/_search.py\u001b[0m in \u001b[0;36mfit\u001b[0;34m(self, X, y, groups, **fit_params)\u001b[0m\n\u001b[1;32m    636\u001b[0m                                   error_score=self.error_score)\n\u001b[1;32m    637\u001b[0m           for parameters, (train, test) in product(candidate_params,\n\u001b[0;32m--> 638\u001b[0;31m                                                    cv.split(X, y, groups)))\n\u001b[0m\u001b[1;32m    639\u001b[0m \u001b[0;34m\u001b[0m\u001b[0m\n\u001b[1;32m    640\u001b[0m         \u001b[0;31m# if one choose to see train score, \"out\" will contain train score info\u001b[0m\u001b[0;34m\u001b[0m\u001b[0;34m\u001b[0m\u001b[0m\n",
      "\u001b[0;32m~/anaconda/lib/python3.6/site-packages/sklearn/externals/joblib/parallel.py\u001b[0m in \u001b[0;36m__call__\u001b[0;34m(self, iterable)\u001b[0m\n\u001b[1;32m    787\u001b[0m                 \u001b[0;31m# consumption.\u001b[0m\u001b[0;34m\u001b[0m\u001b[0;34m\u001b[0m\u001b[0m\n\u001b[1;32m    788\u001b[0m                 \u001b[0mself\u001b[0m\u001b[0;34m.\u001b[0m\u001b[0m_iterating\u001b[0m \u001b[0;34m=\u001b[0m \u001b[0;32mFalse\u001b[0m\u001b[0;34m\u001b[0m\u001b[0m\n\u001b[0;32m--> 789\u001b[0;31m             \u001b[0mself\u001b[0m\u001b[0;34m.\u001b[0m\u001b[0mretrieve\u001b[0m\u001b[0;34m(\u001b[0m\u001b[0;34m)\u001b[0m\u001b[0;34m\u001b[0m\u001b[0m\n\u001b[0m\u001b[1;32m    790\u001b[0m             \u001b[0;31m# Make sure that we get a last message telling us we are done\u001b[0m\u001b[0;34m\u001b[0m\u001b[0;34m\u001b[0m\u001b[0m\n\u001b[1;32m    791\u001b[0m             \u001b[0melapsed_time\u001b[0m \u001b[0;34m=\u001b[0m \u001b[0mtime\u001b[0m\u001b[0;34m.\u001b[0m\u001b[0mtime\u001b[0m\u001b[0;34m(\u001b[0m\u001b[0;34m)\u001b[0m \u001b[0;34m-\u001b[0m \u001b[0mself\u001b[0m\u001b[0;34m.\u001b[0m\u001b[0m_start_time\u001b[0m\u001b[0;34m\u001b[0m\u001b[0m\n",
      "\u001b[0;32m~/anaconda/lib/python3.6/site-packages/sklearn/externals/joblib/parallel.py\u001b[0m in \u001b[0;36mretrieve\u001b[0;34m(self)\u001b[0m\n\u001b[1;32m    719\u001b[0m                     \u001b[0;31m# scheduling.\u001b[0m\u001b[0;34m\u001b[0m\u001b[0;34m\u001b[0m\u001b[0m\n\u001b[1;32m    720\u001b[0m                     \u001b[0mensure_ready\u001b[0m \u001b[0;34m=\u001b[0m \u001b[0mself\u001b[0m\u001b[0;34m.\u001b[0m\u001b[0m_managed_backend\u001b[0m\u001b[0;34m\u001b[0m\u001b[0m\n\u001b[0;32m--> 721\u001b[0;31m                     \u001b[0mbackend\u001b[0m\u001b[0;34m.\u001b[0m\u001b[0mabort_everything\u001b[0m\u001b[0;34m(\u001b[0m\u001b[0mensure_ready\u001b[0m\u001b[0;34m=\u001b[0m\u001b[0mensure_ready\u001b[0m\u001b[0;34m)\u001b[0m\u001b[0;34m\u001b[0m\u001b[0m\n\u001b[0m\u001b[1;32m    722\u001b[0m \u001b[0;34m\u001b[0m\u001b[0m\n\u001b[1;32m    723\u001b[0m                 \u001b[0;32mif\u001b[0m \u001b[0;32mnot\u001b[0m \u001b[0misinstance\u001b[0m\u001b[0;34m(\u001b[0m\u001b[0mexception\u001b[0m\u001b[0;34m,\u001b[0m \u001b[0mTransportableException\u001b[0m\u001b[0;34m)\u001b[0m\u001b[0;34m:\u001b[0m\u001b[0;34m\u001b[0m\u001b[0m\n",
      "\u001b[0;32m~/anaconda/lib/python3.6/site-packages/sklearn/externals/joblib/_parallel_backends.py\u001b[0m in \u001b[0;36mabort_everything\u001b[0;34m(self, ensure_ready)\u001b[0m\n\u001b[1;32m    143\u001b[0m     \u001b[0;32mdef\u001b[0m \u001b[0mabort_everything\u001b[0m\u001b[0;34m(\u001b[0m\u001b[0mself\u001b[0m\u001b[0;34m,\u001b[0m \u001b[0mensure_ready\u001b[0m\u001b[0;34m=\u001b[0m\u001b[0;32mTrue\u001b[0m\u001b[0;34m)\u001b[0m\u001b[0;34m:\u001b[0m\u001b[0;34m\u001b[0m\u001b[0m\n\u001b[1;32m    144\u001b[0m         \u001b[0;34m\"\"\"Shutdown the pool and restart a new one with the same parameters\"\"\"\u001b[0m\u001b[0;34m\u001b[0m\u001b[0m\n\u001b[0;32m--> 145\u001b[0;31m         \u001b[0mself\u001b[0m\u001b[0;34m.\u001b[0m\u001b[0mterminate\u001b[0m\u001b[0;34m(\u001b[0m\u001b[0;34m)\u001b[0m\u001b[0;34m\u001b[0m\u001b[0m\n\u001b[0m\u001b[1;32m    146\u001b[0m         \u001b[0;32mif\u001b[0m \u001b[0mensure_ready\u001b[0m\u001b[0;34m:\u001b[0m\u001b[0;34m\u001b[0m\u001b[0m\n\u001b[1;32m    147\u001b[0m             self.configure(n_jobs=self.parallel.n_jobs, parallel=self.parallel,\n",
      "\u001b[0;32m~/anaconda/lib/python3.6/site-packages/sklearn/externals/joblib/_parallel_backends.py\u001b[0m in \u001b[0;36mterminate\u001b[0;34m(self)\u001b[0m\n\u001b[1;32m    321\u001b[0m     \u001b[0;32mdef\u001b[0m \u001b[0mterminate\u001b[0m\u001b[0;34m(\u001b[0m\u001b[0mself\u001b[0m\u001b[0;34m)\u001b[0m\u001b[0;34m:\u001b[0m\u001b[0;34m\u001b[0m\u001b[0m\n\u001b[1;32m    322\u001b[0m         \u001b[0;34m\"\"\"Shutdown the process or thread pool\"\"\"\u001b[0m\u001b[0;34m\u001b[0m\u001b[0m\n\u001b[0;32m--> 323\u001b[0;31m         \u001b[0msuper\u001b[0m\u001b[0;34m(\u001b[0m\u001b[0mMultiprocessingBackend\u001b[0m\u001b[0;34m,\u001b[0m \u001b[0mself\u001b[0m\u001b[0;34m)\u001b[0m\u001b[0;34m.\u001b[0m\u001b[0mterminate\u001b[0m\u001b[0;34m(\u001b[0m\u001b[0;34m)\u001b[0m\u001b[0;34m\u001b[0m\u001b[0m\n\u001b[0m\u001b[1;32m    324\u001b[0m         \u001b[0;32mif\u001b[0m \u001b[0mself\u001b[0m\u001b[0;34m.\u001b[0m\u001b[0mJOBLIB_SPAWNED_PROCESS\u001b[0m \u001b[0;32min\u001b[0m \u001b[0mos\u001b[0m\u001b[0;34m.\u001b[0m\u001b[0menviron\u001b[0m\u001b[0;34m:\u001b[0m\u001b[0;34m\u001b[0m\u001b[0m\n\u001b[1;32m    325\u001b[0m             \u001b[0;32mdel\u001b[0m \u001b[0mos\u001b[0m\u001b[0;34m.\u001b[0m\u001b[0menviron\u001b[0m\u001b[0;34m[\u001b[0m\u001b[0mself\u001b[0m\u001b[0;34m.\u001b[0m\u001b[0mJOBLIB_SPAWNED_PROCESS\u001b[0m\u001b[0;34m]\u001b[0m\u001b[0;34m\u001b[0m\u001b[0m\n",
      "\u001b[0;32m~/anaconda/lib/python3.6/site-packages/sklearn/externals/joblib/_parallel_backends.py\u001b[0m in \u001b[0;36mterminate\u001b[0;34m(self)\u001b[0m\n\u001b[1;32m    134\u001b[0m         \u001b[0;32mif\u001b[0m \u001b[0mself\u001b[0m\u001b[0;34m.\u001b[0m\u001b[0m_pool\u001b[0m \u001b[0;32mis\u001b[0m \u001b[0;32mnot\u001b[0m \u001b[0;32mNone\u001b[0m\u001b[0;34m:\u001b[0m\u001b[0;34m\u001b[0m\u001b[0m\n\u001b[1;32m    135\u001b[0m             \u001b[0mself\u001b[0m\u001b[0;34m.\u001b[0m\u001b[0m_pool\u001b[0m\u001b[0;34m.\u001b[0m\u001b[0mclose\u001b[0m\u001b[0;34m(\u001b[0m\u001b[0;34m)\u001b[0m\u001b[0;34m\u001b[0m\u001b[0m\n\u001b[0;32m--> 136\u001b[0;31m             \u001b[0mself\u001b[0m\u001b[0;34m.\u001b[0m\u001b[0m_pool\u001b[0m\u001b[0;34m.\u001b[0m\u001b[0mterminate\u001b[0m\u001b[0;34m(\u001b[0m\u001b[0;34m)\u001b[0m  \u001b[0;31m# terminate does a join()\u001b[0m\u001b[0;34m\u001b[0m\u001b[0m\n\u001b[0m\u001b[1;32m    137\u001b[0m             \u001b[0mself\u001b[0m\u001b[0;34m.\u001b[0m\u001b[0m_pool\u001b[0m \u001b[0;34m=\u001b[0m \u001b[0;32mNone\u001b[0m\u001b[0;34m\u001b[0m\u001b[0m\n\u001b[1;32m    138\u001b[0m \u001b[0;34m\u001b[0m\u001b[0m\n",
      "\u001b[0;32m~/anaconda/lib/python3.6/site-packages/sklearn/externals/joblib/pool.py\u001b[0m in \u001b[0;36mterminate\u001b[0;34m(self)\u001b[0m\n\u001b[1;32m    604\u001b[0m         \u001b[0;32mfor\u001b[0m \u001b[0mi\u001b[0m \u001b[0;32min\u001b[0m \u001b[0mrange\u001b[0m\u001b[0;34m(\u001b[0m\u001b[0mn_retries\u001b[0m\u001b[0;34m)\u001b[0m\u001b[0;34m:\u001b[0m\u001b[0;34m\u001b[0m\u001b[0m\n\u001b[1;32m    605\u001b[0m             \u001b[0;32mtry\u001b[0m\u001b[0;34m:\u001b[0m\u001b[0;34m\u001b[0m\u001b[0m\n\u001b[0;32m--> 606\u001b[0;31m                 \u001b[0msuper\u001b[0m\u001b[0;34m(\u001b[0m\u001b[0mMemmapingPool\u001b[0m\u001b[0;34m,\u001b[0m \u001b[0mself\u001b[0m\u001b[0;34m)\u001b[0m\u001b[0;34m.\u001b[0m\u001b[0mterminate\u001b[0m\u001b[0;34m(\u001b[0m\u001b[0;34m)\u001b[0m\u001b[0;34m\u001b[0m\u001b[0m\n\u001b[0m\u001b[1;32m    607\u001b[0m                 \u001b[0;32mbreak\u001b[0m\u001b[0;34m\u001b[0m\u001b[0m\n\u001b[1;32m    608\u001b[0m             \u001b[0;32mexcept\u001b[0m \u001b[0mOSError\u001b[0m \u001b[0;32mas\u001b[0m \u001b[0me\u001b[0m\u001b[0;34m:\u001b[0m\u001b[0;34m\u001b[0m\u001b[0m\n",
      "\u001b[0;32m~/anaconda/lib/python3.6/multiprocessing/pool.py\u001b[0m in \u001b[0;36mterminate\u001b[0;34m(self)\u001b[0m\n\u001b[1;32m    539\u001b[0m         \u001b[0mself\u001b[0m\u001b[0;34m.\u001b[0m\u001b[0m_state\u001b[0m \u001b[0;34m=\u001b[0m \u001b[0mTERMINATE\u001b[0m\u001b[0;34m\u001b[0m\u001b[0m\n\u001b[1;32m    540\u001b[0m         \u001b[0mself\u001b[0m\u001b[0;34m.\u001b[0m\u001b[0m_worker_handler\u001b[0m\u001b[0;34m.\u001b[0m\u001b[0m_state\u001b[0m \u001b[0;34m=\u001b[0m \u001b[0mTERMINATE\u001b[0m\u001b[0;34m\u001b[0m\u001b[0m\n\u001b[0;32m--> 541\u001b[0;31m         \u001b[0mself\u001b[0m\u001b[0;34m.\u001b[0m\u001b[0m_terminate\u001b[0m\u001b[0;34m(\u001b[0m\u001b[0;34m)\u001b[0m\u001b[0;34m\u001b[0m\u001b[0m\n\u001b[0m\u001b[1;32m    542\u001b[0m \u001b[0;34m\u001b[0m\u001b[0m\n\u001b[1;32m    543\u001b[0m     \u001b[0;32mdef\u001b[0m \u001b[0mjoin\u001b[0m\u001b[0;34m(\u001b[0m\u001b[0mself\u001b[0m\u001b[0;34m)\u001b[0m\u001b[0;34m:\u001b[0m\u001b[0;34m\u001b[0m\u001b[0m\n",
      "\u001b[0;32m~/anaconda/lib/python3.6/multiprocessing/util.py\u001b[0m in \u001b[0;36m__call__\u001b[0;34m(self, wr, _finalizer_registry, sub_debug, getpid)\u001b[0m\n\u001b[1;32m    184\u001b[0m                 sub_debug('finalizer calling %s with args %s and kwargs %s',\n\u001b[1;32m    185\u001b[0m                           self._callback, self._args, self._kwargs)\n\u001b[0;32m--> 186\u001b[0;31m                 \u001b[0mres\u001b[0m \u001b[0;34m=\u001b[0m \u001b[0mself\u001b[0m\u001b[0;34m.\u001b[0m\u001b[0m_callback\u001b[0m\u001b[0;34m(\u001b[0m\u001b[0;34m*\u001b[0m\u001b[0mself\u001b[0m\u001b[0;34m.\u001b[0m\u001b[0m_args\u001b[0m\u001b[0;34m,\u001b[0m \u001b[0;34m**\u001b[0m\u001b[0mself\u001b[0m\u001b[0;34m.\u001b[0m\u001b[0m_kwargs\u001b[0m\u001b[0;34m)\u001b[0m\u001b[0;34m\u001b[0m\u001b[0m\n\u001b[0m\u001b[1;32m    187\u001b[0m             \u001b[0mself\u001b[0m\u001b[0;34m.\u001b[0m\u001b[0m_weakref\u001b[0m \u001b[0;34m=\u001b[0m \u001b[0mself\u001b[0m\u001b[0;34m.\u001b[0m\u001b[0m_callback\u001b[0m \u001b[0;34m=\u001b[0m \u001b[0mself\u001b[0m\u001b[0;34m.\u001b[0m\u001b[0m_args\u001b[0m \u001b[0;34m=\u001b[0m\u001b[0;31m \u001b[0m\u001b[0;31m\\\u001b[0m\u001b[0;34m\u001b[0m\u001b[0m\n\u001b[1;32m    188\u001b[0m                             \u001b[0mself\u001b[0m\u001b[0;34m.\u001b[0m\u001b[0m_kwargs\u001b[0m \u001b[0;34m=\u001b[0m \u001b[0mself\u001b[0m\u001b[0;34m.\u001b[0m\u001b[0m_key\u001b[0m \u001b[0;34m=\u001b[0m \u001b[0;32mNone\u001b[0m\u001b[0;34m\u001b[0m\u001b[0m\n",
      "\u001b[0;32m~/anaconda/lib/python3.6/multiprocessing/pool.py\u001b[0m in \u001b[0;36m_terminate_pool\u001b[0;34m(cls, taskqueue, inqueue, outqueue, pool, worker_handler, task_handler, result_handler, cache)\u001b[0m\n\u001b[1;32m    603\u001b[0m                     \u001b[0;31m# worker has not yet exited\u001b[0m\u001b[0;34m\u001b[0m\u001b[0;34m\u001b[0m\u001b[0m\n\u001b[1;32m    604\u001b[0m                     \u001b[0mutil\u001b[0m\u001b[0;34m.\u001b[0m\u001b[0mdebug\u001b[0m\u001b[0;34m(\u001b[0m\u001b[0;34m'cleaning up worker %d'\u001b[0m \u001b[0;34m%\u001b[0m \u001b[0mp\u001b[0m\u001b[0;34m.\u001b[0m\u001b[0mpid\u001b[0m\u001b[0;34m)\u001b[0m\u001b[0;34m\u001b[0m\u001b[0m\n\u001b[0;32m--> 605\u001b[0;31m                     \u001b[0mp\u001b[0m\u001b[0;34m.\u001b[0m\u001b[0mjoin\u001b[0m\u001b[0;34m(\u001b[0m\u001b[0;34m)\u001b[0m\u001b[0;34m\u001b[0m\u001b[0m\n\u001b[0m\u001b[1;32m    606\u001b[0m \u001b[0;34m\u001b[0m\u001b[0m\n\u001b[1;32m    607\u001b[0m     \u001b[0;32mdef\u001b[0m \u001b[0m__enter__\u001b[0m\u001b[0;34m(\u001b[0m\u001b[0mself\u001b[0m\u001b[0;34m)\u001b[0m\u001b[0;34m:\u001b[0m\u001b[0;34m\u001b[0m\u001b[0m\n",
      "\u001b[0;32m~/anaconda/lib/python3.6/multiprocessing/process.py\u001b[0m in \u001b[0;36mjoin\u001b[0;34m(self, timeout)\u001b[0m\n\u001b[1;32m    119\u001b[0m         \u001b[0;32massert\u001b[0m \u001b[0mself\u001b[0m\u001b[0;34m.\u001b[0m\u001b[0m_parent_pid\u001b[0m \u001b[0;34m==\u001b[0m \u001b[0mos\u001b[0m\u001b[0;34m.\u001b[0m\u001b[0mgetpid\u001b[0m\u001b[0;34m(\u001b[0m\u001b[0;34m)\u001b[0m\u001b[0;34m,\u001b[0m \u001b[0;34m'can only join a child process'\u001b[0m\u001b[0;34m\u001b[0m\u001b[0m\n\u001b[1;32m    120\u001b[0m         \u001b[0;32massert\u001b[0m \u001b[0mself\u001b[0m\u001b[0;34m.\u001b[0m\u001b[0m_popen\u001b[0m \u001b[0;32mis\u001b[0m \u001b[0;32mnot\u001b[0m \u001b[0;32mNone\u001b[0m\u001b[0;34m,\u001b[0m \u001b[0;34m'can only join a started process'\u001b[0m\u001b[0;34m\u001b[0m\u001b[0m\n\u001b[0;32m--> 121\u001b[0;31m         \u001b[0mres\u001b[0m \u001b[0;34m=\u001b[0m \u001b[0mself\u001b[0m\u001b[0;34m.\u001b[0m\u001b[0m_popen\u001b[0m\u001b[0;34m.\u001b[0m\u001b[0mwait\u001b[0m\u001b[0;34m(\u001b[0m\u001b[0mtimeout\u001b[0m\u001b[0;34m)\u001b[0m\u001b[0;34m\u001b[0m\u001b[0m\n\u001b[0m\u001b[1;32m    122\u001b[0m         \u001b[0;32mif\u001b[0m \u001b[0mres\u001b[0m \u001b[0;32mis\u001b[0m \u001b[0;32mnot\u001b[0m \u001b[0;32mNone\u001b[0m\u001b[0;34m:\u001b[0m\u001b[0;34m\u001b[0m\u001b[0m\n\u001b[1;32m    123\u001b[0m             \u001b[0m_children\u001b[0m\u001b[0;34m.\u001b[0m\u001b[0mdiscard\u001b[0m\u001b[0;34m(\u001b[0m\u001b[0mself\u001b[0m\u001b[0;34m)\u001b[0m\u001b[0;34m\u001b[0m\u001b[0m\n",
      "\u001b[0;32m~/anaconda/lib/python3.6/multiprocessing/popen_fork.py\u001b[0m in \u001b[0;36mwait\u001b[0;34m(self, timeout)\u001b[0m\n\u001b[1;32m     49\u001b[0m                     \u001b[0;32mreturn\u001b[0m \u001b[0;32mNone\u001b[0m\u001b[0;34m\u001b[0m\u001b[0m\n\u001b[1;32m     50\u001b[0m             \u001b[0;31m# This shouldn't block if wait() returned successfully.\u001b[0m\u001b[0;34m\u001b[0m\u001b[0;34m\u001b[0m\u001b[0m\n\u001b[0;32m---> 51\u001b[0;31m             \u001b[0;32mreturn\u001b[0m \u001b[0mself\u001b[0m\u001b[0;34m.\u001b[0m\u001b[0mpoll\u001b[0m\u001b[0;34m(\u001b[0m\u001b[0mos\u001b[0m\u001b[0;34m.\u001b[0m\u001b[0mWNOHANG\u001b[0m \u001b[0;32mif\u001b[0m \u001b[0mtimeout\u001b[0m \u001b[0;34m==\u001b[0m \u001b[0;36m0.0\u001b[0m \u001b[0;32melse\u001b[0m \u001b[0;36m0\u001b[0m\u001b[0;34m)\u001b[0m\u001b[0;34m\u001b[0m\u001b[0m\n\u001b[0m\u001b[1;32m     52\u001b[0m         \u001b[0;32mreturn\u001b[0m \u001b[0mself\u001b[0m\u001b[0;34m.\u001b[0m\u001b[0mreturncode\u001b[0m\u001b[0;34m\u001b[0m\u001b[0m\n\u001b[1;32m     53\u001b[0m \u001b[0;34m\u001b[0m\u001b[0m\n",
      "\u001b[0;32m~/anaconda/lib/python3.6/multiprocessing/popen_fork.py\u001b[0m in \u001b[0;36mpoll\u001b[0;34m(self, flag)\u001b[0m\n\u001b[1;32m     27\u001b[0m             \u001b[0;32mwhile\u001b[0m \u001b[0;32mTrue\u001b[0m\u001b[0;34m:\u001b[0m\u001b[0;34m\u001b[0m\u001b[0m\n\u001b[1;32m     28\u001b[0m                 \u001b[0;32mtry\u001b[0m\u001b[0;34m:\u001b[0m\u001b[0;34m\u001b[0m\u001b[0m\n\u001b[0;32m---> 29\u001b[0;31m                     \u001b[0mpid\u001b[0m\u001b[0;34m,\u001b[0m \u001b[0msts\u001b[0m \u001b[0;34m=\u001b[0m \u001b[0mos\u001b[0m\u001b[0;34m.\u001b[0m\u001b[0mwaitpid\u001b[0m\u001b[0;34m(\u001b[0m\u001b[0mself\u001b[0m\u001b[0;34m.\u001b[0m\u001b[0mpid\u001b[0m\u001b[0;34m,\u001b[0m \u001b[0mflag\u001b[0m\u001b[0;34m)\u001b[0m\u001b[0;34m\u001b[0m\u001b[0m\n\u001b[0m\u001b[1;32m     30\u001b[0m                 \u001b[0;32mexcept\u001b[0m \u001b[0mOSError\u001b[0m \u001b[0;32mas\u001b[0m \u001b[0me\u001b[0m\u001b[0;34m:\u001b[0m\u001b[0;34m\u001b[0m\u001b[0m\n\u001b[1;32m     31\u001b[0m                     \u001b[0;31m# Child process not yet created. See #1731717\u001b[0m\u001b[0;34m\u001b[0m\u001b[0;34m\u001b[0m\u001b[0m\n",
      "\u001b[0;31mKeyboardInterrupt\u001b[0m: "
     ]
    }
   ],
   "source": [
    "print('Start Process')\n",
    "start = default_timer()\n",
    "# Set up randomized Cross Validated grid search.\n",
    "grid_lgb = GridSearchCV(clf,\n",
    "                        param_grid, cv=5,\n",
    "                        scoring=['f1_macro','recall_macro','precision_macro'],\n",
    "                        refit=False,n_jobs=-1,verbose=5)\n",
    "\n",
    "# Fit randomized CV grid\n",
    "grid_lgb.fit(X_train,y_train)\n",
    "\n",
    "print('{:.2f}'.format(default_timer()-start))\n",
    "print('grid_gbc fit')"
   ]
  },
  {
   "cell_type": "code",
   "execution_count": 136,
   "metadata": {
    "collapsed": true
   },
   "outputs": [],
   "source": [
    "results = grid_lgb.cv_results_"
   ]
  },
  {
   "cell_type": "code",
   "execution_count": 127,
   "metadata": {},
   "outputs": [
    {
     "data": {
      "text/plain": [
       "dict_keys(['mean_fit_time', 'std_fit_time', 'mean_score_time', 'std_score_time', 'param_learning_rate', 'param_max_depth', 'param_n_estimators', 'params', 'split0_test_f1_macro', 'split1_test_f1_macro', 'split2_test_f1_macro', 'split3_test_f1_macro', 'split4_test_f1_macro', 'mean_test_f1_macro', 'std_test_f1_macro', 'rank_test_f1_macro', 'split0_train_f1_macro', 'split1_train_f1_macro', 'split2_train_f1_macro', 'split3_train_f1_macro', 'split4_train_f1_macro', 'mean_train_f1_macro', 'std_train_f1_macro', 'split0_test_recall_macro', 'split1_test_recall_macro', 'split2_test_recall_macro', 'split3_test_recall_macro', 'split4_test_recall_macro', 'mean_test_recall_macro', 'std_test_recall_macro', 'rank_test_recall_macro', 'split0_train_recall_macro', 'split1_train_recall_macro', 'split2_train_recall_macro', 'split3_train_recall_macro', 'split4_train_recall_macro', 'mean_train_recall_macro', 'std_train_recall_macro', 'split0_test_precision_macro', 'split1_test_precision_macro', 'split2_test_precision_macro', 'split3_test_precision_macro', 'split4_test_precision_macro', 'mean_test_precision_macro', 'std_test_precision_macro', 'rank_test_precision_macro', 'split0_train_precision_macro', 'split1_train_precision_macro', 'split2_train_precision_macro', 'split3_train_precision_macro', 'split4_train_precision_macro', 'mean_train_precision_macro', 'std_train_precision_macro'])"
      ]
     },
     "execution_count": 127,
     "metadata": {},
     "output_type": "execute_result"
    }
   ],
   "source": [
    "results.keys()"
   ]
  },
  {
   "cell_type": "code",
   "execution_count": 128,
   "metadata": {},
   "outputs": [
    {
     "data": {
      "text/plain": [
       "[{'learning_rate': 0.1, 'max_depth': 15, 'n_estimators': 20},\n",
       " {'learning_rate': 0.1, 'max_depth': 15, 'n_estimators': 30},\n",
       " {'learning_rate': 0.1, 'max_depth': 20, 'n_estimators': 20},\n",
       " {'learning_rate': 0.1, 'max_depth': 20, 'n_estimators': 30},\n",
       " {'learning_rate': 1, 'max_depth': 15, 'n_estimators': 20},\n",
       " {'learning_rate': 1, 'max_depth': 15, 'n_estimators': 30},\n",
       " {'learning_rate': 1, 'max_depth': 20, 'n_estimators': 20},\n",
       " {'learning_rate': 1, 'max_depth': 20, 'n_estimators': 30}]"
      ]
     },
     "execution_count": 128,
     "metadata": {},
     "output_type": "execute_result"
    }
   ],
   "source": [
    "results['params']"
   ]
  },
  {
   "cell_type": "code",
   "execution_count": 129,
   "metadata": {},
   "outputs": [
    {
     "data": {
      "text/plain": [
       "array([8, 6, 7, 5, 3, 1, 4, 2], dtype=int32)"
      ]
     },
     "execution_count": 129,
     "metadata": {},
     "output_type": "execute_result"
    }
   ],
   "source": [
    "results['rank_test_f1_macro']"
   ]
  },
  {
   "cell_type": "code",
   "execution_count": 130,
   "metadata": {},
   "outputs": [
    {
     "data": {
      "text/plain": [
       "array([8, 6, 7, 5, 3, 1, 4, 2], dtype=int32)"
      ]
     },
     "execution_count": 130,
     "metadata": {},
     "output_type": "execute_result"
    }
   ],
   "source": [
    "results['rank_test_precision_macro']"
   ]
  },
  {
   "cell_type": "code",
   "execution_count": 131,
   "metadata": {},
   "outputs": [
    {
     "data": {
      "text/plain": [
       "array([8, 6, 7, 5, 3, 1, 4, 2], dtype=int32)"
      ]
     },
     "execution_count": 131,
     "metadata": {},
     "output_type": "execute_result"
    }
   ],
   "source": [
    "results['rank_test_recall_macro']"
   ]
  },
  {
   "cell_type": "code",
   "execution_count": 132,
   "metadata": {},
   "outputs": [
    {
     "data": {
      "text/plain": [
       "array([ 0.69596988,  0.71624106,  0.695998  ,  0.71652518,  0.76309248,\n",
       "        0.78132051,  0.75962115,  0.77685855])"
      ]
     },
     "execution_count": 132,
     "metadata": {},
     "output_type": "execute_result"
    }
   ],
   "source": [
    "results['mean_test_f1_macro']"
   ]
  },
  {
   "cell_type": "code",
   "execution_count": 133,
   "metadata": {},
   "outputs": [
    {
     "data": {
      "text/plain": [
       "array([ 0.72427929,  0.74267536,  0.72430081,  0.74306245,  0.76779099,\n",
       "        0.7854946 ,  0.7638772 ,  0.780947  ])"
      ]
     },
     "execution_count": 133,
     "metadata": {},
     "output_type": "execute_result"
    }
   ],
   "source": [
    "results['mean_test_precision_macro']"
   ]
  },
  {
   "cell_type": "code",
   "execution_count": 134,
   "metadata": {},
   "outputs": [
    {
     "data": {
      "text/plain": [
       "array([ 0.69151866,  0.71057472,  0.6915677 ,  0.71081677,  0.76055746,\n",
       "        0.77889592,  0.75754852,  0.77462158])"
      ]
     },
     "execution_count": 134,
     "metadata": {},
     "output_type": "execute_result"
    }
   ],
   "source": [
    "results['mean_test_recall_macro']"
   ]
  },
  {
   "cell_type": "code",
   "execution_count": null,
   "metadata": {
    "collapsed": true
   },
   "outputs": [],
   "source": []
  },
  {
   "cell_type": "code",
   "execution_count": null,
   "metadata": {
    "collapsed": true
   },
   "outputs": [],
   "source": []
  },
  {
   "cell_type": "code",
   "execution_count": null,
   "metadata": {
    "collapsed": true
   },
   "outputs": [],
   "source": []
  },
  {
   "cell_type": "code",
   "execution_count": null,
   "metadata": {
    "collapsed": true
   },
   "outputs": [],
   "source": []
  }
 ],
 "metadata": {
  "kernelspec": {
   "display_name": "Python 3",
   "language": "python",
   "name": "python3"
  },
  "language_info": {
   "codemirror_mode": {
    "name": "ipython",
    "version": 3
   },
   "file_extension": ".py",
   "mimetype": "text/x-python",
   "name": "python",
   "nbconvert_exporter": "python",
   "pygments_lexer": "ipython3",
   "version": "3.6.2"
  }
 },
 "nbformat": 4,
 "nbformat_minor": 2
}
